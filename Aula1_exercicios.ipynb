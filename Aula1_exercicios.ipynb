{
  "nbformat": 4,
  "nbformat_minor": 5,
  "metadata": {
    "kernelspec": {
      "display_name": "Python 3",
      "language": "python",
      "name": "python3"
    },
    "language_info": {
      "codemirror_mode": {
        "name": "ipython",
        "version": 3
      },
      "file_extension": ".py",
      "mimetype": "text/x-python",
      "name": "python",
      "nbconvert_exporter": "python",
      "pygments_lexer": "ipython3",
      "version": "3.8.5"
    },
    "colab": {
      "name": "Aula1_exercicios.ipynb",
      "provenance": []
    }
  },
  "cells": [
    {
      "cell_type": "markdown",
      "metadata": {
        "id": "37e4da29"
      },
      "source": [
        "# Exercícios - Aula 01\n",
        "___\n",
        "\n",
        "4. Crie um algoritmo que avalia duas condições, a primeira condição testa se a variável ```x``` é divisível por 5.5, a segunda condição avalia se a variável ```y``` é menor ou igual a 5, una as duas condições utilizando o operador lógico ```or```. Atribua pelo menos 4 valores diferentes para ```x``` e ```y``` e dê print no resultado.\n",
        "\n",
        "5. Uma escola tem a seguintes regras de avaliação:\n",
        "* Notas abaixo de 24 -> F\n",
        "* De 25 a 44 -> E\n",
        "* De 45 a 49 -> D\n",
        "* De 50 a 59 -> C\n",
        "* De 60 a 79 -> B\n",
        "* Acima de 80 -> B\n",
        "\n",
        "Crie um algoritmo para avaliar a nota de um aluno atribuida a variável ```nota_aluno```, teste pelo menos 5 notas diferentes.\n",
        "\n",
        "6. A promoção de inverno começou na loja Magazine Luciana, aproveitando essa situação você decidiu comprar um número ```x``` de potes de Toddy, o valor de cada pote é de R\\$5.99. A loja te dará um desconto de 10% no valor total se você comprar mais do que 10 potes. Monte um algoritmo que pergunta quantos potes você quer comprar, calcula o valor total (levando em consideração os descontos) e printa o valor a ser pago pelo pedido.\n",
        "\n",
        "7. Crie um algoritmo que pergunte para o usuário a quantidade de aulas dadas em um semestre, a quantidade de aulas que ele participou. Caso o aluno tenha participado de pelo menos 75% das aulas imprima \"Aluno aprovado\", em caso negativo, imprima \"Aluno reprovado\".\n",
        "\n",
        "8. Crie um algoritmo que avalie se um ano ```ano_corrente``` é ou não ano bissexto. Teste com pelo menos 5 anos."
      ],
      "id": "37e4da29"
    },
    {
      "cell_type": "markdown",
      "metadata": {
        "id": "1H32wGKOgb5H"
      },
      "source": [
        "1. Crie um algoritmo que represente a árvore abaixo.\n",
        "\n",
        "![](https://github.com/kelvingamedev/ferramentas-python/blob/master/imgs/arvore.png?raw=1)\n"
      ],
      "id": "1H32wGKOgb5H"
    },
    {
      "cell_type": "code",
      "metadata": {
        "id": "fTsgItszgcmU"
      },
      "source": [
        "def algoritmo(x, y, z):\n",
        "  if x[0] == 'b':\n",
        "    if len(y) >= 15:\n",
        "      print(\"Resultado1\")\n",
        "    elif z % 2 == 0:\n",
        "      print(\"Resultado1\")\n",
        "    else:\n",
        "      print('resultado2')\n",
        "  elif x[1] == 'a':\n",
        "    print(\"resultado1\")\n",
        "  else:\n",
        "    print('resultado2')"
      ],
      "id": "fTsgItszgcmU",
      "execution_count": 3,
      "outputs": []
    },
    {
      "cell_type": "markdown",
      "metadata": {
        "id": "W2gD3k37iz9f"
      },
      "source": [
        "1.1 Quando x = 'bacon', y = [1,2,3,4,5,6,7,8,9,10,'a','b','c','d','e','f','g','h'] e z = 15. Qual valor o programa deverá printar?\n",
        "\n"
      ],
      "id": "W2gD3k37iz9f"
    },
    {
      "cell_type": "code",
      "metadata": {
        "id": "2sj5pQQKi1gm",
        "outputId": "00555e5f-6a31-4f6d-f037-f17d6041b4de",
        "colab": {
          "base_uri": "https://localhost:8080/"
        }
      },
      "source": [
        "x = 'bacon'\n",
        "y = [1,2,3,4,5,6,7,8,9,10,'a','b','c','d','e','f','g','h'] \n",
        "z = 15\n",
        "algoritmo(x, y, z)"
      ],
      "id": "2sj5pQQKi1gm",
      "execution_count": 4,
      "outputs": [
        {
          "output_type": "stream",
          "text": [
            "Resultado1\n"
          ],
          "name": "stdout"
        }
      ]
    },
    {
      "cell_type": "markdown",
      "metadata": {
        "id": "yHfCz0xXjAfF"
      },
      "source": [
        "\n",
        "1.2 Quando x='couxeiro', y = [[1,2,3,4,5],[1,2,3,4,5],[1,2,3,4,5]] e z = 21. Qual valor o programa deverá printar?\n",
        "\n"
      ],
      "id": "yHfCz0xXjAfF"
    },
    {
      "cell_type": "code",
      "metadata": {
        "id": "LocfqCixiyrP",
        "outputId": "7f9c9820-2fe9-4280-8994-5d8f0349bec4",
        "colab": {
          "base_uri": "https://localhost:8080/"
        }
      },
      "source": [
        "x='couxeiro'\n",
        "y = [[1,2,3,4,5],[1,2,3,4,5],[1,2,3,4,5]] \n",
        "z = 21\n",
        "algoritmo(x, y, z)"
      ],
      "id": "LocfqCixiyrP",
      "execution_count": 5,
      "outputs": [
        {
          "output_type": "stream",
          "text": [
            "resultado2\n"
          ],
          "name": "stdout"
        }
      ]
    },
    {
      "cell_type": "markdown",
      "metadata": {
        "id": "z7EFlY6wkP4u"
      },
      "source": [
        "\n",
        "2. Crie um algoritmo que avalia se um número é ou não divisível por 5. Em caso positivo print 'Fizz' e em caso negativo print 'Buzz'."
      ],
      "id": "z7EFlY6wkP4u"
    },
    {
      "cell_type": "code",
      "metadata": {
        "id": "hif-lzxMkQm-",
        "outputId": "56eef463-4901-4ce9-9b14-306414bffe2d",
        "colab": {
          "base_uri": "https://localhost:8080/"
        }
      },
      "source": [
        "def algoritmo(numero):\n",
        "  eh_divisivel_por_5 = numero % 5 == 0\n",
        "  if eh_divisivel_por_5:\n",
        "    print(\"Fizz\")\n",
        "  else:\n",
        "    print(\"Buzz\")\n",
        "\n",
        "for numero in [25, 3]:\n",
        "    algoritmo(numero)"
      ],
      "id": "hif-lzxMkQm-",
      "execution_count": 7,
      "outputs": [
        {
          "output_type": "stream",
          "text": [
            "Fizz\n",
            "Buzz\n"
          ],
          "name": "stdout"
        }
      ]
    },
    {
      "cell_type": "markdown",
      "metadata": {
        "id": "iz82p3fMlBev"
      },
      "source": [
        "3. Crie um algoritmo que avalia duas condições, a primeira condição testa se a variável ```x``` é par, a segunda condição avalia se a variável ```y``` é maior que 10, una as duas condições utilizando o operador lógico ```and```. Atribua pelo menos 4 valores diferentes para ```x``` e ```y``` e dê print no resultado.\n"
      ],
      "id": "iz82p3fMlBev"
    },
    {
      "cell_type": "code",
      "metadata": {
        "id": "GDQVuOpVlCP3"
      },
      "source": [
        "def algoritmo(x, y):\n",
        "  if x % 2 == 0 and y > 10:\n",
        "    pass\n",
        "  for i in p[]\n",
        "  "
      ],
      "id": "GDQVuOpVlCP3",
      "execution_count": null,
      "outputs": []
    },
    {
      "cell_type": "code",
      "metadata": {
        "id": "Twp61A1Zi8Br"
      },
      "source": [
        ""
      ],
      "id": "Twp61A1Zi8Br",
      "execution_count": null,
      "outputs": []
    }
  ]
}