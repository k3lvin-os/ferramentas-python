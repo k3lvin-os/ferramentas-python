{
  "nbformat": 4,
  "nbformat_minor": 5,
  "metadata": {
    "kernelspec": {
      "display_name": "Python 3",
      "language": "python",
      "name": "python3"
    },
    "language_info": {
      "codemirror_mode": {
        "name": "ipython",
        "version": 3
      },
      "file_extension": ".py",
      "mimetype": "text/x-python",
      "name": "python",
      "nbconvert_exporter": "python",
      "pygments_lexer": "ipython3",
      "version": "3.8.5"
    },
    "colab": {
      "name": "Aula0_intro_var_oper-checkpoint.ipynb",
      "provenance": []
    }
  },
  "cells": [
    {
      "cell_type": "markdown",
      "metadata": {
        "id": "3f1a12a9"
      },
      "source": [
        "# Introdução\n",
        "___\n",
        "\n",
        "Python é uma linguagem interpretada de propósito geral criada em 1991. Ela foi criada por Guido Van Rossum, como um projeto de férias e o nome foi uma dedicatória ao show Monty Python.Ela é uma linguagem que valoriza a legibilidade do código por meio do uso de espaçamentos. Foi a segunda linguagem de programação mais usada em 2020 e mantem seu status em 2021 também é a principal linguagem utilizada pelos cientistas de dados.\n",
        "\n",
        "<img src=\"https://github.com/kelvingamedev/ferramentas-python/blob/master/.ipynb_checkpoints/imgs/top_languages.png?raw=1\" alt=\"linguagens_mais_usadas\" style=\"width: 600px;\"/>\n",
        "\n",
        "As principais ferramentas de análise de dados e machine learning possuem APIs em python, consequentemente, entender python, sua sintaxe e usabilidade é extremamente necessários para um cientista de dados. Algumas fas ferramentas mais utilizadas por cientistas de dados e que estão em python:\n",
        "\n",
        "* [Scikit-Learn](https://scikit-learn.org/stable/index.html) - Machine learning, algoritmos de pré-processamento de dados, extração de características, redução de dimensionalidade, algoritmos supervisionados e não supervisionados, métricas e funções para construção de pipelines.\n",
        "\n",
        "```python\n",
        "## exemplo de uma support vector machine para previsão de valores contínuos\n",
        "from sklearn import svm\n",
        "\n",
        "X = [[0, 0], [2, 2]]\n",
        "y = [0.5, 2.5]\n",
        "regr = svm.SVR()\n",
        "regr.fit(X, y)\n",
        "regr.predict([[1, 1]])\n",
        "\n",
        "```\n",
        "\n",
        "* [Pandas](https://pandas.pydata.org/) - Análise de dados, conjunto de funções para abertura de arquivos de diversas extensões (.csv,.json,.stata,.xlsx etc), funções para construção, junção, reformatação de dataframes e séries de dados. Habitualmente compara a ferramentas de trabalho com tabelas como o MS Excel.\n",
        "\n",
        "```python\n",
        "## exemplo de comando para leitura de um arquivo  com extensão .csv\n",
        "import pandas as pd\n",
        "\n",
        "alunos = \"arquivo.csv\"\n",
        "\n",
        "pd.read_csv(StringIO(data))\n",
        "\n",
        "  col1 col2  col3\n",
        "0    a    b     1\n",
        "1    a    b     2\n",
        "2    c    d     3\n",
        "\n",
        "```\n",
        "\n",
        "* [Numpy](https://numpy.org/) - Arrays e Matrizes, conjunto de funções para construção, manipulação e operações com arrays e matrizes, álgebra linear, operações estatísticas básicas, simulações de valores aleatórios, operações lógicas e matemáticas básicas.\n",
        "\n",
        "```python\n",
        "## exemplo da criação de um array\n",
        "\n",
        "import numpy as np\n",
        "a = np.arange(15).reshape(3, 5)\n",
        "a\n",
        "array([[ 0,  1,  2,  3,  4],\n",
        "       [ 5,  6,  7,  8,  9],\n",
        "       [10, 11, 12, 13, 14]])\n",
        "\n",
        "```\n",
        "* [Matplotlib](https://matplotlib.org/stable/index.html) - Gráficos, conjunto de funções para construção de gráficos dos mais variados tipos, funções para definição de estilo, texto, títulos, legendas e outros componentes acessários a um gráfico.\n",
        "\n",
        "```python\n",
        "## exemplo da criação de um gráfico de linha.\n",
        "\n",
        "import matplotlib.pyplot as plt\n",
        "fig, ax = plt.subplots()  \n",
        "ax.plot([1, 2, 3, 4], [1, 4, 2, 3]) \n",
        "```\n",
        "![grafico](https://matplotlib.org/stable/_images/sphx_glr_usage_001.png)"
      ],
      "id": "3f1a12a9"
    },
    {
      "cell_type": "markdown",
      "metadata": {
        "id": "50799323"
      },
      "source": [
        "# Lógica de Programação\n",
        "___\n",
        "\n",
        "A lógica de programação é a técnica de encadear pensamentos para atingir determinado objetivo. Ela é necessária para o desenvolvimento de sistemas, visto que, sistemas nada mais são do que ferramentas (escritas em numa linguagem de computador) que recebem instruções e executam tarefas. O encadeamento correto e lógico dessas tarefas irá gerar o resultado esperado de forma previsível e coesa. Por exemplo, para cozinhar uma batata é necessário uma série de instruções e atividades que fazemos de forma automática, porém em desenvolvimento devemos claramente descrever cada etapada do processo, isso é uma sequência lógica de instruções.\n",
        "\n",
        "1. Pegar 1 batata\n",
        "2. Pegar 1 panela\n",
        "3. Descascar a batata\n",
        "4. Colocar a batata na panela\n",
        "5. Encher a panela com água\n",
        "6. Colocar a panela no fogão\n",
        "7. Ligar o fogão em fogo alto\n",
        "8. Esperar 15 minutos\n",
        "9. Desligar o fogo\n",
        "10. Retirar a água da penela\n",
        "11. Retirar a batata cozida da panela\n",
        "\n",
        "Essa sequência finita de instruções é um **algoritmo**. Algoritmos não suportam redundâncias ou subjetividades, as tarefas devem ser claramente escritas e precisas naquilo que fazem. Em nossa alfabetização aprendemos uma sequência de tarefas que devem ser feitas para chegar em um resultado específico, por exemplo uma soma.\n",
        "\n",
        "#### Some dois números quaisquer\n",
        "\n",
        "* Escreva o primeiro número no retângulo A\n",
        "* Escreva o segundo número no retângulo B\n",
        "* Some o número do retângulo A com o número do retângulo B e coloque o resultado no retângulo C.\n",
        "\n",
        "![retangulos](https://github.com/kelvingamedev/ferramentas-python/blob/master/.ipynb_checkpoints/imgs/retangulos.png?raw=1)"
      ],
      "id": "50799323"
    },
    {
      "cell_type": "markdown",
      "metadata": {
        "id": "0cc04df6"
      },
      "source": [
        "# Algoritmos\n",
        "\n",
        "Algoritmos resolvem problemas, entender logicamente esses problemas e planejar o algoritmo em três fases são o primeiro passo. Essas três fases são **ENTRADA**->**PROCESSAMENTO**->**SAÍDA**, por exemplo, um algoritmo que recebe(entrada) qualquer valor numérico (inteiro ou contínuo), cálcula o cubo desta entrada (processamento) e printa o resultado (saída)."
      ],
      "id": "0cc04df6"
    },
    {
      "cell_type": "code",
      "metadata": {
        "id": "00275870"
      },
      "source": [
        "def cubo(valor_numerico):\n",
        "    \n",
        "    resultado = valor_numerico ** 3\n",
        "    \n",
        "    print(resultado)"
      ],
      "id": "00275870",
      "execution_count": null,
      "outputs": []
    },
    {
      "cell_type": "code",
      "metadata": {
        "id": "ee56c627",
        "outputId": "50699309-9459-4e61-e64c-9eadef16ee01"
      },
      "source": [
        "cubo(3)"
      ],
      "id": "ee56c627",
      "execution_count": null,
      "outputs": [
        {
          "output_type": "stream",
          "text": [
            "27\n"
          ],
          "name": "stdout"
        }
      ]
    },
    {
      "cell_type": "markdown",
      "metadata": {
        "id": "dfb7cfef"
      },
      "source": [
        "A \"entrada\" são os dados de entrada do algoritmo, esses dados de entrada podem valores inteiro, contínuos (flutuantes), listas ou objetos mais complexos. Um carro autônomo pro exemplo tem um algoritmo que toma decisão de mudança de direção, a entrada desse algoritmo são imagens e dados dos diversos sensores.\n",
        "\n",
        "![carro_autonomo](https://static01.nyt.com/images/2017/05/26/business/26wheels-top/26wheels-top-articleLarge-v2.gif?quality=75&auto=webp&disable=upscale)\n",
        "\n",
        "Representação dos dados de LIDAR de um carro autônomo.\n",
        "\n",
        "O \"processamento\" são os procedimentos utilizados para chegar até o resultado final. Aqui temos todas as operações e passos lógicos para chegarmos no resultado esperado. No processamento utilizamos técnicas matemáticas, estatísticas e computacionais para transformar a entrada na saída.\n",
        "\n",
        "<img src=\"https://i.pinimg.com/originals/04/8a/51/048a51831e45b04321af593612a04a16.gif\" alt=\"neural\" style=\"width: 600px;\"/>\n",
        "\n",
        "Uma rede neural efetuando o processamento de uma imagem para predição.\n",
        "\n",
        "A \"saída\" são os dados processados no formato do resultado esperado. Saídas podem ser textuais, numéricas, objetos e até mesmo imagens. No exemplo acima da rede neural a entrada é uma imagem, o processamento é feito através de técnicas de convolução e multiplicação de matrizes e a saída é uma classe (cachorro), que pode ser representada por um número ou por texto."
      ],
      "id": "dfb7cfef"
    },
    {
      "cell_type": "markdown",
      "metadata": {
        "id": "1ec81216"
      },
      "source": [
        "Podemos representar visualmente algoritmos através de uma notação padronizada. Ela nos ajudará a entender e planejar alguns algorimtos mais simples. É extremamente recomendável que, antes de qualquer trabalho, seja feita uma etapa de planejamento do algoritmo, suas entradas, saídas e etapas de processamento. Pergunte-se: o que espero como saída? quais são as entradas necessárias? quais etapas de processamento serão necessárias para chegar no resultado que espero? um algoritmo é suficiente? \n",
        "\n",
        "![notacao](https://github.com/kelvingamedev/ferramentas-python/blob/master/.ipynb_checkpoints/imgs/notacao.png?raw=1)"
      ],
      "id": "1ec81216"
    },
    {
      "cell_type": "markdown",
      "metadata": {
        "id": "fab26d35"
      },
      "source": [
        "Um algoritmo de cálcula a média de 4 notas de um determinada matéria, pode funcionar da seguinte forma.\n",
        "\n",
        "![](https://github.com/kelvingamedev/ferramentas-python/blob/master/.ipynb_checkpoints/imgs/algoritmo.png?raw=1)\n",
        "\n",
        "E em python esse algoritmo pode ser:\n",
        "\n",
        "```python\n",
        "\n",
        "def media_notas(n1,n2,n3,n4):\n",
        "    media = (n1+n2+n3+n4)/4\n",
        "    print(media)\n",
        "    \n",
        ">> media_notas(10,10,4,3)\n",
        ">> 6.75\n",
        "```\n",
        "\n",
        "Mas esse algoritmo também pode ser descrito em outras linguagens, javascript, por exemplo.\n",
        "\n",
        "```javascript\n",
        "function myFunction(n1, n2, n3, n4) {\n",
        "  return (n1+n2+n3+n4)/4; \n",
        "}\n",
        "\n",
        "console.log(myFunction(10,10,4,3))\n",
        "\n",
        "6.75\n",
        "\n",
        "```"
      ],
      "id": "fab26d35"
    },
    {
      "cell_type": "markdown",
      "metadata": {
        "id": "1722e482"
      },
      "source": [
        "O caminho mais comumente utilizado é a transformação da necessidade em linguagem natural (um texto), depois em diagrama (como o demonstrado acima), esse diagrama é então reescrito em uma linguagem de programação (human-readable) e assim na sua execução enviada para a unidade lógica em lingaguem de máquina (comandos binários). Python é uma linguagem interpretada, ou seja, os comandos são enviados a um interpretador que transforma a linguagem de programação padronizada em comandos que possam ser executados por unidades de processamento, isso torna o aprendizado de python bem fácil visto que sua sintaxe de escrita é simples e de fácil leitura."
      ],
      "id": "1722e482"
    },
    {
      "cell_type": "markdown",
      "metadata": {
        "id": "5d15d565"
      },
      "source": [
        "# Python\n",
        "___"
      ],
      "id": "5d15d565"
    },
    {
      "cell_type": "markdown",
      "metadata": {
        "id": "582bb502"
      },
      "source": [
        "## Variáveis\n",
        "\n",
        "\n",
        "Variáveis são espaços na memória do computador que possuem valores acessáveis. Utilizamos um símbolo de igual ```=```, também chamado de símbolo de atribuição para criar variáveis."
      ],
      "id": "582bb502"
    },
    {
      "cell_type": "code",
      "metadata": {
        "id": "570e8261"
      },
      "source": [
        "a = 10\n",
        "b = 20"
      ],
      "id": "570e8261",
      "execution_count": null,
      "outputs": []
    },
    {
      "cell_type": "code",
      "metadata": {
        "id": "a85ec34d",
        "outputId": "b96943cf-abbf-4624-f1aa-116626771def"
      },
      "source": [
        "print(a)"
      ],
      "id": "a85ec34d",
      "execution_count": null,
      "outputs": [
        {
          "output_type": "stream",
          "text": [
            "10\n"
          ],
          "name": "stdout"
        }
      ]
    },
    {
      "cell_type": "code",
      "metadata": {
        "id": "f39e1a09",
        "outputId": "bad6b66f-1556-4ef7-d255-290cc54a2eaa"
      },
      "source": [
        "print(b)"
      ],
      "id": "f39e1a09",
      "execution_count": null,
      "outputs": [
        {
          "output_type": "stream",
          "text": [
            "20\n"
          ],
          "name": "stdout"
        }
      ]
    },
    {
      "cell_type": "code",
      "metadata": {
        "id": "4ff5da4f"
      },
      "source": [
        "nome = 'João'"
      ],
      "id": "4ff5da4f",
      "execution_count": null,
      "outputs": []
    },
    {
      "cell_type": "code",
      "metadata": {
        "id": "cdbb96dd",
        "outputId": "cf321397-5df5-46ec-cb07-68f2b98862d2"
      },
      "source": [
        "print(nome)"
      ],
      "id": "cdbb96dd",
      "execution_count": null,
      "outputs": [
        {
          "output_type": "stream",
          "text": [
            "João\n"
          ],
          "name": "stdout"
        }
      ]
    },
    {
      "cell_type": "markdown",
      "metadata": {
        "id": "92177b2a"
      },
      "source": [
        "É importante entender que o identificador é único e recebe somente um valor por vez, para criarmos conjuntos de valores foram criadas estruturas de dados (dicionários, arrays, listas, tuplas). Se usarmos um identificador mais de um vez ele terá seu valor sobreescrito pelo valor mais recente. Exemplo:"
      ],
      "id": "92177b2a"
    },
    {
      "cell_type": "code",
      "metadata": {
        "id": "cc465293",
        "outputId": "ff8074ca-7dc6-479a-a39f-8d519a36413a"
      },
      "source": [
        "print(nome)"
      ],
      "id": "cc465293",
      "execution_count": null,
      "outputs": [
        {
          "output_type": "stream",
          "text": [
            "João\n"
          ],
          "name": "stdout"
        }
      ]
    },
    {
      "cell_type": "code",
      "metadata": {
        "id": "6cac255d"
      },
      "source": [
        "nome = 'Nasser'"
      ],
      "id": "6cac255d",
      "execution_count": null,
      "outputs": []
    },
    {
      "cell_type": "code",
      "metadata": {
        "id": "28701b7b",
        "outputId": "10226320-c5ab-4015-f377-ec1122c8f1e9"
      },
      "source": [
        "print('Nasser')"
      ],
      "id": "28701b7b",
      "execution_count": null,
      "outputs": [
        {
          "output_type": "stream",
          "text": [
            "Nasser\n"
          ],
          "name": "stdout"
        }
      ]
    },
    {
      "cell_type": "markdown",
      "metadata": {
        "id": "53c99e7c"
      },
      "source": [
        "Acima percebemos que a variável ```nome``` já existia com o valor ```João```, ao atribuirmos um novo valor a essa mesma variável, perdemos ```João``` e guardado na variável agora existe o valor ```Nasser```. É importante notar que o python executa as células de código numa ordenação de cima para baixo linha a linha."
      ],
      "id": "53c99e7c"
    },
    {
      "cell_type": "markdown",
      "metadata": {
        "id": "6f857755"
      },
      "source": [
        "```python\n",
        "idade = 30\n",
        "idade = 115\n",
        "idade = 10\n",
        "```\n",
        "\n",
        "Usando os conceitos vistos até então, qual seria o valor final na variável ```idade``` ?"
      ],
      "id": "6f857755"
    },
    {
      "cell_type": "markdown",
      "metadata": {
        "id": "3ad308cb"
      },
      "source": [
        "Variáveis são necessárias e ajudam a construir algoritmos mais dinâmicos e capazes de receberem valores diferentes e mesmo assim darem o mesmo resultado. A função ```cubo``` demonstrada nos exemplos da sessão anterior está preparada para receber qualquer valor e executar a operação de potência ao cubo."
      ],
      "id": "3ad308cb"
    },
    {
      "cell_type": "code",
      "metadata": {
        "id": "9a209c45",
        "outputId": "e48926db-2981-469e-d020-803aa7c6c41d"
      },
      "source": [
        "cubo(10)"
      ],
      "id": "9a209c45",
      "execution_count": null,
      "outputs": [
        {
          "output_type": "stream",
          "text": [
            "1000\n"
          ],
          "name": "stdout"
        }
      ]
    },
    {
      "cell_type": "code",
      "metadata": {
        "id": "4eed7370",
        "outputId": "67473e63-0d7e-4e3f-ad18-731c5372f860"
      },
      "source": [
        "cubo(20)"
      ],
      "id": "4eed7370",
      "execution_count": null,
      "outputs": [
        {
          "output_type": "stream",
          "text": [
            "8000\n"
          ],
          "name": "stdout"
        }
      ]
    },
    {
      "cell_type": "markdown",
      "metadata": {
        "id": "5e2c697f"
      },
      "source": [
        "Vale a pena notar que ao criar variáveis, seus identificadores (ou nomes) devem seguir algumas regras. As variáveis podem ter números e letras, porém não podemos iniciar o nome de variáveis com números e nem utilizar algumas palavras reservadas pelo sistema. A criação de identificadores também é sensível a caixa alta, sendo considerado diferentes identificadores escritos de formas diferentes."
      ],
      "id": "5e2c697f"
    },
    {
      "cell_type": "code",
      "metadata": {
        "id": "c33f8837",
        "outputId": "47e7e84c-3af6-4228-e1a2-5f98563aaed0"
      },
      "source": [
        "12_idade_joao = 15"
      ],
      "id": "c33f8837",
      "execution_count": null,
      "outputs": [
        {
          "output_type": "error",
          "ename": "SyntaxError",
          "evalue": "invalid decimal literal (<ipython-input-25-c6798dc40ac0>, line 1)",
          "traceback": [
            "\u001b[0;36m  File \u001b[0;32m\"<ipython-input-25-c6798dc40ac0>\"\u001b[0;36m, line \u001b[0;32m1\u001b[0m\n\u001b[0;31m    12_idade_joao = 15\u001b[0m\n\u001b[0m      ^\u001b[0m\n\u001b[0;31mSyntaxError\u001b[0m\u001b[0;31m:\u001b[0m invalid decimal literal\n"
          ]
        }
      ]
    },
    {
      "cell_type": "markdown",
      "metadata": {
        "id": "57e43f13"
      },
      "source": [
        "Acima o erro de sintaxe demonstra que não podemos criar uma variável iniciando com o número 12."
      ],
      "id": "57e43f13"
    },
    {
      "cell_type": "code",
      "metadata": {
        "id": "a784b10c",
        "outputId": "f2cacc83-de66-4632-8f32-a3f4189ce517"
      },
      "source": [
        "return = 15"
      ],
      "id": "a784b10c",
      "execution_count": null,
      "outputs": [
        {
          "output_type": "error",
          "ename": "SyntaxError",
          "evalue": "invalid syntax (<ipython-input-26-43275c85c0df>, line 1)",
          "traceback": [
            "\u001b[0;36m  File \u001b[0;32m\"<ipython-input-26-43275c85c0df>\"\u001b[0;36m, line \u001b[0;32m1\u001b[0m\n\u001b[0;31m    return = 15\u001b[0m\n\u001b[0m           ^\u001b[0m\n\u001b[0;31mSyntaxError\u001b[0m\u001b[0;31m:\u001b[0m invalid syntax\n"
          ]
        }
      ]
    },
    {
      "cell_type": "markdown",
      "metadata": {
        "id": "0748cd99"
      },
      "source": [
        "A palavra reservada ```return``` já descreve um comando nativo do python que não pode ser substituído e por isso não podemos utilizar esse identificador para criar uma variável. Segue uma lista de palavras reservadas em python.\n",
        "\n",
        "![palavras_reservadas](https://www.computersciencemaster.com.br/wp-content/uploads/2021/04/Palavras_reservadas.png)"
      ],
      "id": "0748cd99"
    },
    {
      "cell_type": "markdown",
      "metadata": {
        "id": "49de4950"
      },
      "source": [
        "## Tipos de dados\n",
        "\n",
        "As variáveis podem receber dados e objetos. Pode-se dividir os dados em 4 tipos diferentes, cada tipo de dado tem sua particularidade e pode ser utilizado em situações específicas. Todo código em python vai ter, em seu processamento, que lidar com esses tipos de dados, são eles:\n",
        "\n",
        "* string (str) - valores textuais, representados por aspas (simples ou duplas) ou criados através da função ```str()```\n",
        "* integer (int) - valores númericos inteiros, criados através da função ```int()```\n",
        "* float (float) - valores numéricos fracionários, também chamados de valores flutuantes, criados através da função ```float()```\n",
        "* boolean (bool) - valores booleanos, só assumem dois valores possíveis ```True``` e ```False```. Computacionalmente ```True``` pode ser representado pelo valor 1 e ```False``` por 0.\n",
        "\n",
        "\n",
        "É possível descrobrir o tipo de um dado usando a função ```type()```."
      ],
      "id": "49de4950"
    },
    {
      "cell_type": "code",
      "metadata": {
        "id": "8a9606ff",
        "outputId": "0b053967-ed9b-4822-8414-bcc4b9f70ad1"
      },
      "source": [
        "## uma string\n",
        "\n",
        "x = 'Nasser'\n",
        "type(x)"
      ],
      "id": "8a9606ff",
      "execution_count": null,
      "outputs": [
        {
          "output_type": "execute_result",
          "data": {
            "text/plain": [
              "str"
            ]
          },
          "metadata": {
            "tags": []
          },
          "execution_count": 27
        }
      ]
    },
    {
      "cell_type": "code",
      "metadata": {
        "id": "978c2c2d",
        "outputId": "f70608ee-0e63-464b-c033-3917d02316bd"
      },
      "source": [
        "## um integer\n",
        "\n",
        "x = 150\n",
        "type(x)"
      ],
      "id": "978c2c2d",
      "execution_count": null,
      "outputs": [
        {
          "output_type": "execute_result",
          "data": {
            "text/plain": [
              "int"
            ]
          },
          "metadata": {
            "tags": []
          },
          "execution_count": 28
        }
      ]
    },
    {
      "cell_type": "code",
      "metadata": {
        "id": "3b7274fa",
        "outputId": "043e2500-329c-4f5e-bace-08b3f7062a2b"
      },
      "source": [
        "## um float\n",
        "\n",
        "x = 3.75\n",
        "type(x)"
      ],
      "id": "3b7274fa",
      "execution_count": null,
      "outputs": [
        {
          "output_type": "execute_result",
          "data": {
            "text/plain": [
              "float"
            ]
          },
          "metadata": {
            "tags": []
          },
          "execution_count": 29
        }
      ]
    },
    {
      "cell_type": "code",
      "metadata": {
        "id": "17730782",
        "outputId": "cede2b93-6dd7-47d5-a3e4-74607106e7a9"
      },
      "source": [
        "## um boolean\n",
        "\n",
        "x = True\n",
        "type(x)"
      ],
      "id": "17730782",
      "execution_count": null,
      "outputs": [
        {
          "output_type": "execute_result",
          "data": {
            "text/plain": [
              "bool"
            ]
          },
          "metadata": {
            "tags": []
          },
          "execution_count": 30
        }
      ]
    },
    {
      "cell_type": "markdown",
      "metadata": {
        "id": "d7c01836"
      },
      "source": [
        "É interessante notar que o simples fato de atribuirmos um valor a uma variável o tipo do dado já é reconhecido, ou seja, não há necessidade de declarar a variável ou o tipo de dados que será guardado."
      ],
      "id": "d7c01836"
    },
    {
      "cell_type": "markdown",
      "metadata": {
        "id": "d2dda602"
      },
      "source": [
        "## Operadores Aritiméticos\n",
        "\n",
        "Operações aritiméticas são necessárias para qualquer trabalho de processamento, utilizando variáveis podemos executar operações matemáticas de forma dinâmica. Esses são os operadores matemáticos utilizados em python.\n",
        "\n",
        "| Operador |            Ação            |\n",
        "|:--------:|:--------------------------:|\n",
        "|     -    |          subtração         |\n",
        "|     +    |           adição           |\n",
        "|     *    |        multiplicação       |\n",
        "|     %    |  módulo da divisão (resto) |\n",
        "|    **    |         potenciação        |\n",
        "|    +=    |      incremento (soma)     |\n",
        "|    *=    | incremento (multiplicação) |\n",
        "|    -=    |   decremento (subtração)   |\n",
        "\n",
        "Para utilizar qualquer uma das operações demonstradas acima, basta escrever o operador associado com as variáveis, bem similar a uma fórmula matemática comum."
      ],
      "id": "d2dda602"
    },
    {
      "cell_type": "code",
      "metadata": {
        "id": "dd068604",
        "outputId": "5b057bb2-82ee-4722-fcf0-c733516b2380"
      },
      "source": [
        "## subtração\n",
        "\n",
        "28 - 3"
      ],
      "id": "dd068604",
      "execution_count": null,
      "outputs": [
        {
          "output_type": "execute_result",
          "data": {
            "text/plain": [
              "56"
            ]
          },
          "metadata": {
            "tags": []
          },
          "execution_count": 32
        }
      ]
    },
    {
      "cell_type": "code",
      "metadata": {
        "id": "32c5cab4",
        "outputId": "2a86e98b-b109-4515-b773-f4ca906c0b23"
      },
      "source": [
        "## adição\n",
        "\n",
        "28 + 28"
      ],
      "id": "32c5cab4",
      "execution_count": null,
      "outputs": [
        {
          "output_type": "execute_result",
          "data": {
            "text/plain": [
              "56"
            ]
          },
          "metadata": {
            "tags": []
          },
          "execution_count": 33
        }
      ]
    },
    {
      "cell_type": "code",
      "metadata": {
        "id": "fc05dadb",
        "outputId": "ae21f817-57a3-4a16-ad24-7014ed385f8a"
      },
      "source": [
        "## multiplicação\n",
        "\n",
        "28 * 1.5"
      ],
      "id": "fc05dadb",
      "execution_count": null,
      "outputs": [
        {
          "output_type": "execute_result",
          "data": {
            "text/plain": [
              "42.0"
            ]
          },
          "metadata": {
            "tags": []
          },
          "execution_count": 34
        }
      ]
    },
    {
      "cell_type": "code",
      "metadata": {
        "id": "efce1e77",
        "outputId": "c637d419-c172-403b-9b73-f681c24c5efd"
      },
      "source": [
        "## módulo\n",
        "\n",
        "55 % 10"
      ],
      "id": "efce1e77",
      "execution_count": null,
      "outputs": [
        {
          "output_type": "execute_result",
          "data": {
            "text/plain": [
              "5"
            ]
          },
          "metadata": {
            "tags": []
          },
          "execution_count": 36
        }
      ]
    },
    {
      "cell_type": "code",
      "metadata": {
        "id": "dd90438e",
        "outputId": "b606c6f3-60c5-4dd0-a74c-008303cf9027"
      },
      "source": [
        "## potências\n",
        "\n",
        "10**2"
      ],
      "id": "dd90438e",
      "execution_count": null,
      "outputs": [
        {
          "output_type": "execute_result",
          "data": {
            "text/plain": [
              "100"
            ]
          },
          "metadata": {
            "tags": []
          },
          "execution_count": 37
        }
      ]
    },
    {
      "cell_type": "code",
      "metadata": {
        "id": "eca7a89d",
        "outputId": "7fe07d06-e544-4afe-b3a0-ea6ebe63b9ee"
      },
      "source": [
        "## incremento\n",
        "\n",
        "x = 10\n",
        "x += 5\n",
        "print(x)"
      ],
      "id": "eca7a89d",
      "execution_count": null,
      "outputs": [
        {
          "output_type": "stream",
          "text": [
            "15\n"
          ],
          "name": "stdout"
        }
      ]
    },
    {
      "cell_type": "code",
      "metadata": {
        "id": "8f489aa6",
        "outputId": "5c852c62-6f9e-4be7-e1fa-ac67434dd692"
      },
      "source": [
        "## incremento (multiplicação)\n",
        "\n",
        "x = 10\n",
        "x *= 2.2\n",
        "print(x)"
      ],
      "id": "8f489aa6",
      "execution_count": null,
      "outputs": [
        {
          "output_type": "stream",
          "text": [
            "22.0\n"
          ],
          "name": "stdout"
        }
      ]
    },
    {
      "cell_type": "code",
      "metadata": {
        "id": "0cef6d61",
        "outputId": "ee551486-8264-4776-8a6c-31625440527f"
      },
      "source": [
        "## decremento\n",
        "\n",
        "x = 10\n",
        "x -= 2.5\n",
        "print(x)"
      ],
      "id": "0cef6d61",
      "execution_count": null,
      "outputs": [
        {
          "output_type": "stream",
          "text": [
            "7.5\n"
          ],
          "name": "stdout"
        }
      ]
    },
    {
      "cell_type": "markdown",
      "metadata": {
        "id": "1b88dd1a"
      },
      "source": [
        "### Exercício\n",
        "\n",
        "Usando as operações acima. Como podemos calcular o IMC de uma pessoa?\n",
        "\n",
        "[referência IMC](https://www.tuasaude.com/calculadora/imc/)"
      ],
      "id": "1b88dd1a"
    },
    {
      "cell_type": "markdown",
      "metadata": {
        "id": "a1a9c2eb"
      },
      "source": [
        "### Exercício\n",
        "\n",
        "Tente executar operações com alguns tipos de dados diferentes em cada variável. Quais são possíveis e quais não são possíveis?"
      ],
      "id": "a1a9c2eb"
    },
    {
      "cell_type": "markdown",
      "metadata": {
        "id": "a87d141b"
      },
      "source": [
        "## Entrada e Saída\n",
        "\n",
        "Em python podemos trabalhar com a entrada manual de dados através da função ```input()```. Ela recebe uma entrada do usuário (podendo ser texto ou valores numéricos) e retorna sempre uma string. Podemos guardar essa string resultante da entrada do usuário em uma variável.\n",
        "\n",
        "Além disso pode-se usar a função ```print()``` para imprimir o valor de uma variável no seu terminal de execução. Vale a pena notar que o resultado de um print é um tipo nulo e nunca pode ser guardado dentro de uma variável."
      ],
      "id": "a87d141b"
    },
    {
      "cell_type": "code",
      "metadata": {
        "id": "0258078a",
        "outputId": "3529d8c8-f7ac-4bc8-99d3-9fc13035bb5c"
      },
      "source": [
        "nome_do_cliente = input('Escreva seu nome:')"
      ],
      "id": "0258078a",
      "execution_count": null,
      "outputs": [
        {
          "output_type": "stream",
          "text": [
            "Escreva seu nome: nasser\n"
          ],
          "name": "stdin"
        }
      ]
    },
    {
      "cell_type": "code",
      "metadata": {
        "id": "7ffc96d3",
        "outputId": "84227189-949f-4e41-836f-22e821996bd9"
      },
      "source": [
        "nome_do_cliente"
      ],
      "id": "7ffc96d3",
      "execution_count": null,
      "outputs": [
        {
          "output_type": "execute_result",
          "data": {
            "text/plain": [
              "'nasser'"
            ]
          },
          "metadata": {
            "tags": []
          },
          "execution_count": 4
        }
      ]
    },
    {
      "cell_type": "code",
      "metadata": {
        "id": "55f5d532",
        "outputId": "dba5f4a6-a3b6-4183-aee1-39559cde2928"
      },
      "source": [
        "idade_do_cliente = input('Escreva sua idade:')"
      ],
      "id": "55f5d532",
      "execution_count": null,
      "outputs": [
        {
          "output_type": "stream",
          "text": [
            "Escreva sua idade: 30\n"
          ],
          "name": "stdin"
        }
      ]
    },
    {
      "cell_type": "code",
      "metadata": {
        "id": "bdcb6ff1",
        "outputId": "d9c30cbe-4c13-4e84-805e-750b9a2aac4c"
      },
      "source": [
        "type(idade_do_cliente)"
      ],
      "id": "bdcb6ff1",
      "execution_count": null,
      "outputs": [
        {
          "output_type": "execute_result",
          "data": {
            "text/plain": [
              "str"
            ]
          },
          "metadata": {
            "tags": []
          },
          "execution_count": 6
        }
      ]
    },
    {
      "cell_type": "markdown",
      "metadata": {
        "id": "cf1da8bc"
      },
      "source": [
        "Pelo fato da variável ```idade_do_cliente``` ter sido populada com o resultado da função ```input()``` o valor digitado pelo usuário foi transformado em string. Podemos forçar que o valor resultante seja um inteiro utilizando ```int()```."
      ],
      "id": "cf1da8bc"
    },
    {
      "cell_type": "code",
      "metadata": {
        "id": "5ef93533",
        "outputId": "4d26070f-1599-4d70-8bf3-0a0ee90bad9e"
      },
      "source": [
        "idade_do_cliente = int(input('Escreva sua idade:'))"
      ],
      "id": "5ef93533",
      "execution_count": null,
      "outputs": [
        {
          "output_type": "stream",
          "text": [
            "Escreva sua idade: 30\n"
          ],
          "name": "stdin"
        }
      ]
    },
    {
      "cell_type": "code",
      "metadata": {
        "id": "e4ac7e3a",
        "outputId": "ab7ab2b9-e8a8-4cb2-cd14-84981a6e008c"
      },
      "source": [
        "type(idade_do_cliente)"
      ],
      "id": "e4ac7e3a",
      "execution_count": null,
      "outputs": [
        {
          "output_type": "execute_result",
          "data": {
            "text/plain": [
              "int"
            ]
          },
          "metadata": {
            "tags": []
          },
          "execution_count": 8
        }
      ]
    },
    {
      "cell_type": "code",
      "metadata": {
        "id": "84d24fae",
        "outputId": "82800d70-68e3-4007-eeae-0ac683172faf"
      },
      "source": [
        "print(idade_do_cliente)"
      ],
      "id": "84d24fae",
      "execution_count": null,
      "outputs": [
        {
          "output_type": "stream",
          "text": [
            "30\n"
          ],
          "name": "stdout"
        }
      ]
    },
    {
      "cell_type": "code",
      "metadata": {
        "id": "44b7e57d",
        "outputId": "6f910859-5e6f-4c23-ab26-9f0595228d02"
      },
      "source": [
        "valor_print = print(idade_do_cliente)"
      ],
      "id": "44b7e57d",
      "execution_count": null,
      "outputs": [
        {
          "output_type": "stream",
          "text": [
            "30\n"
          ],
          "name": "stdout"
        }
      ]
    },
    {
      "cell_type": "code",
      "metadata": {
        "id": "8e94d287",
        "outputId": "39209428-c060-44ab-ffc2-e9b0dfdb177a"
      },
      "source": [
        "type(valor_print)"
      ],
      "id": "8e94d287",
      "execution_count": null,
      "outputs": [
        {
          "output_type": "execute_result",
          "data": {
            "text/plain": [
              "NoneType"
            ]
          },
          "metadata": {
            "tags": []
          },
          "execution_count": 12
        }
      ]
    },
    {
      "cell_type": "markdown",
      "metadata": {
        "id": "8248b695"
      },
      "source": [
        "Perceba que no exemplo acima, ao tentar guardar a saída da função ```print()``` em uma variável ela acaba vazia. A dica é utilizar a função ```print()``` para ter mensagens que possma ser lidas e marquem partes da execução importante do seu algoritmo ou que deem algum tipo de informação para quem está o rodando.\n",
        "\n",
        "Existe um recurso em python chamado de f-string, sua principal função é adicionar variáveis junto a texto de uma forma fácil. Esse recurso funciona muito bem com a função ```print()```, mas também pode ser utilizado em strings puras e até docstrings (strings de documentação).Para utiliza-la basta colocar a letra ```f``` antes de abrir as aspas de uma string e colocar a variável desejada entre ```{}``` (chaves)."
      ],
      "id": "8248b695"
    },
    {
      "cell_type": "code",
      "metadata": {
        "id": "21ab3bed",
        "outputId": "452f5dc1-08b2-4338-95ad-13f40eb1ab31"
      },
      "source": [
        "print(f'A idade digitada foi {idade_do_cliente} anos!')"
      ],
      "id": "21ab3bed",
      "execution_count": null,
      "outputs": [
        {
          "output_type": "stream",
          "text": [
            "A idade digitada foi 30 anos!\n"
          ],
          "name": "stdout"
        }
      ]
    },
    {
      "cell_type": "markdown",
      "metadata": {
        "id": "685c0701"
      },
      "source": [
        "### Exercício\n",
        "\n",
        "Crie um algoritmo que pergunte a idade do usuário, transforme a idade enviada para ```float```, calcule a idade em meses, calcule a idade em dias e mostre o resultado de cada operação. Considere que todos os anos possuem exatamente 365 dias."
      ],
      "id": "685c0701"
    },
    {
      "cell_type": "code",
      "metadata": {
        "id": "866624c3"
      },
      "source": [
        ""
      ],
      "id": "866624c3",
      "execution_count": null,
      "outputs": []
    },
    {
      "cell_type": "code",
      "metadata": {
        "id": "d92b09f9"
      },
      "source": [
        ""
      ],
      "id": "d92b09f9",
      "execution_count": null,
      "outputs": []
    },
    {
      "cell_type": "code",
      "metadata": {
        "id": "b558e972"
      },
      "source": [
        ""
      ],
      "id": "b558e972",
      "execution_count": null,
      "outputs": []
    },
    {
      "cell_type": "markdown",
      "metadata": {
        "id": "5cfd13f3"
      },
      "source": [
        "# Referências\n",
        "\n",
        "http://ftp.unicamp.br/pub/apoio/treinamentos/logica/logica.pdf"
      ],
      "id": "5cfd13f3"
    }
  ]
}