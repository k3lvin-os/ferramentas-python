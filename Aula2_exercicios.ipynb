{
  "nbformat": 4,
  "nbformat_minor": 5,
  "metadata": {
    "kernelspec": {
      "display_name": "Python 3",
      "language": "python",
      "name": "python3"
    },
    "language_info": {
      "codemirror_mode": {
        "name": "ipython",
        "version": 3
      },
      "file_extension": ".py",
      "mimetype": "text/x-python",
      "name": "python",
      "nbconvert_exporter": "python",
      "pygments_lexer": "ipython3",
      "version": "3.8.5"
    },
    "colab": {
      "name": "Aula2_exercicios.ipynb",
      "provenance": []
    }
  },
  "cells": [
    {
      "cell_type": "markdown",
      "metadata": {
        "id": "8264b715"
      },
      "source": [
        "# Exercícios - Aula 02\n",
        "___\n",
        "\n",
        "19. Quais são as chaves do dicionário de dicionários 'mcu'?\n",
        "\n",
        "20. Qual o tamanho do dicionário de dicionários 'mcu'?"
      ],
      "id": "8264b715"
    },
    {
      "cell_type": "markdown",
      "metadata": {
        "id": "CwB1q8S8zWdn"
      },
      "source": [
        "1. Crie uma lista 'a_list' com os seguintes valores: 1, hello, [1,2,3] e True.\n"
      ],
      "id": "CwB1q8S8zWdn"
    },
    {
      "cell_type": "code",
      "metadata": {
        "id": "bQ7ilFKCzY7i"
      },
      "source": [
        "a_list = [1, 'hello', [1, 2, 3], True]"
      ],
      "id": "bQ7ilFKCzY7i",
      "execution_count": 48,
      "outputs": []
    },
    {
      "cell_type": "markdown",
      "metadata": {
        "id": "L5XoDMh3zmH3"
      },
      "source": [
        "2. Ache o valor em 'a_list' que esteja no índice -1.\n"
      ],
      "id": "L5XoDMh3zmH3"
    },
    {
      "cell_type": "code",
      "metadata": {
        "id": "A5uRHUm_zm-u",
        "outputId": "df355451-1377-4829-8896-57aae212c138",
        "colab": {
          "base_uri": "https://localhost:8080/"
        }
      },
      "source": [
        "a_list[-1]"
      ],
      "id": "A5uRHUm_zm-u",
      "execution_count": 49,
      "outputs": [
        {
          "output_type": "execute_result",
          "data": {
            "text/plain": [
              "True"
            ]
          },
          "metadata": {
            "tags": []
          },
          "execution_count": 49
        }
      ]
    },
    {
      "cell_type": "markdown",
      "metadata": {
        "id": "fYPuz5nhzqiD"
      },
      "source": [
        "3. Encontre os valores em 'a_list' que estejam nos indices 1,2 e 3.\n"
      ],
      "id": "fYPuz5nhzqiD"
    },
    {
      "cell_type": "code",
      "metadata": {
        "id": "9v5PN3xszt1w",
        "outputId": "83425158-bed1-46d6-a2b7-5acd5bf7fa51",
        "colab": {
          "base_uri": "https://localhost:8080/"
        }
      },
      "source": [
        "a_list[1:4]"
      ],
      "id": "9v5PN3xszt1w",
      "execution_count": 50,
      "outputs": [
        {
          "output_type": "execute_result",
          "data": {
            "text/plain": [
              "['hello', [1, 2, 3], True]"
            ]
          },
          "metadata": {
            "tags": []
          },
          "execution_count": 50
        }
      ]
    },
    {
      "cell_type": "markdown",
      "metadata": {
        "id": "xaQMyCLB0xGv"
      },
      "source": [
        "4. Junte as seguinte listas a=[1,2,3,4,5] e b=[11,12,13,14,15]\n"
      ],
      "id": "xaQMyCLB0xGv"
    },
    {
      "cell_type": "code",
      "metadata": {
        "id": "tKd4lFuf00XY",
        "outputId": "6c67b377-700e-4a58-a273-7c04354a6764",
        "colab": {
          "base_uri": "https://localhost:8080/"
        }
      },
      "source": [
        "a = [1,2,3,4,5]\n",
        "b = [11,12,13,14,15]\n",
        "a.extend(b)\n",
        "a"
      ],
      "id": "tKd4lFuf00XY",
      "execution_count": 51,
      "outputs": [
        {
          "output_type": "execute_result",
          "data": {
            "text/plain": [
              "[1, 2, 3, 4, 5, 11, 12, 13, 14, 15]"
            ]
          },
          "metadata": {
            "tags": []
          },
          "execution_count": 51
        }
      ]
    },
    {
      "cell_type": "markdown",
      "metadata": {
        "id": "2VfL1SbT3T01"
      },
      "source": [
        "5. Crie uma lista de listas 'list_list' que tenha os valores de 'a_list', 'a' e 'b'\n"
      ],
      "id": "2VfL1SbT3T01"
    },
    {
      "cell_type": "code",
      "metadata": {
        "id": "NbkYXsrw4i4-"
      },
      "source": [
        "list_list = ['a_list', 'a', 'b']"
      ],
      "id": "NbkYXsrw4i4-",
      "execution_count": 52,
      "outputs": []
    },
    {
      "cell_type": "markdown",
      "metadata": {
        "id": "JdIciQnE48rY"
      },
      "source": [
        "6. Qual o tamanho de 'list_list'?\n"
      ],
      "id": "JdIciQnE48rY"
    },
    {
      "cell_type": "code",
      "metadata": {
        "id": "3YL2ORmH49Oo",
        "outputId": "cd169b9e-0938-452d-d779-ebadbee981a6",
        "colab": {
          "base_uri": "https://localhost:8080/"
        }
      },
      "source": [
        "len(list_list)"
      ],
      "id": "3YL2ORmH49Oo",
      "execution_count": 53,
      "outputs": [
        {
          "output_type": "execute_result",
          "data": {
            "text/plain": [
              "3"
            ]
          },
          "metadata": {
            "tags": []
          },
          "execution_count": 53
        }
      ]
    },
    {
      "cell_type": "markdown",
      "metadata": {
        "id": "lXEnB1o85K_O"
      },
      "source": [
        "7. Adicione o valor 125 ao final de 'list_list'"
      ],
      "id": "lXEnB1o85K_O"
    },
    {
      "cell_type": "code",
      "metadata": {
        "id": "MrpsSi885Lgf"
      },
      "source": [
        "list_list.append(125)"
      ],
      "id": "MrpsSi885Lgf",
      "execution_count": 54,
      "outputs": []
    },
    {
      "cell_type": "markdown",
      "metadata": {
        "id": "G4rjQO-V_mgO"
      },
      "source": [
        "8. Remova a lista [1,2,3] de 'list_list' e guarde esse valor numa variável 'list_a'.\n"
      ],
      "id": "G4rjQO-V_mgO"
    },
    {
      "cell_type": "code",
      "metadata": {
        "id": "IIzB_wLn_nNZ",
        "outputId": "ccf89837-c026-4b64-b96f-f5cf0ed77d2a",
        "colab": {
          "base_uri": "https://localhost:8080/"
        }
      },
      "source": [
        "list_a = a_list.pop(2)\n",
        "list_a"
      ],
      "id": "IIzB_wLn_nNZ",
      "execution_count": 55,
      "outputs": [
        {
          "output_type": "execute_result",
          "data": {
            "text/plain": [
              "[1, 2, 3]"
            ]
          },
          "metadata": {
            "tags": []
          },
          "execution_count": 55
        }
      ]
    },
    {
      "cell_type": "markdown",
      "metadata": {
        "id": "WHgHr120DhI9"
      },
      "source": [
        "9. Qual é o primeiro valor do segundo valor de [[1,3,5,7],[2,4,6,8,10]]?\n"
      ],
      "id": "WHgHr120DhI9"
    },
    {
      "cell_type": "code",
      "metadata": {
        "id": "iRHkHD6oDhxu",
        "outputId": "fb9378ef-ab34-4a99-ed12-fe59931bd2c2",
        "colab": {
          "base_uri": "https://localhost:8080/"
        }
      },
      "source": [
        "lista =  [[1,3,5,7],[2,4,6,8,10]]\n",
        "print(f\"Primeiro valor da lista: {lista[0]}\")\n",
        "print(f\"Segundo valor da lista: {lista[1]}\")"
      ],
      "id": "iRHkHD6oDhxu",
      "execution_count": 56,
      "outputs": [
        {
          "output_type": "stream",
          "text": [
            "Primeiro valor da lista: [1, 3, 5, 7]\n",
            "Segundo valor da lista: [2, 4, 6, 8, 10]\n"
          ],
          "name": "stdout"
        }
      ]
    },
    {
      "cell_type": "markdown",
      "metadata": {
        "id": "IrIKUNyYE8JM"
      },
      "source": [
        "10. Crie a tupla 'gnr' com os seguintes valores: rock, metal, sertanejo, pop, lo-fi e chillwave, nessa ordem.\n"
      ],
      "id": "IrIKUNyYE8JM"
    },
    {
      "cell_type": "code",
      "metadata": {
        "id": "WArJU79hE8-C",
        "outputId": "5c742aea-08ff-44be-cc4a-50284fa3cb9b",
        "colab": {
          "base_uri": "https://localhost:8080/"
        }
      },
      "source": [
        "gnr = ('rock', 'metal', 'sertanejo', 'pop', 'lo-fi', 'chillwave')\n",
        "gnr"
      ],
      "id": "WArJU79hE8-C",
      "execution_count": 58,
      "outputs": [
        {
          "output_type": "execute_result",
          "data": {
            "text/plain": [
              "('rock', 'metal', 'sertanejo', 'pop', 'lo-fi', 'chillwave')"
            ]
          },
          "metadata": {
            "tags": []
          },
          "execution_count": 58
        }
      ]
    },
    {
      "cell_type": "markdown",
      "metadata": {
        "id": "jB9-LBmNFc7U"
      },
      "source": [
        "11. Qual o terceiro valor da tupla 'gnr'?"
      ],
      "id": "jB9-LBmNFc7U"
    },
    {
      "cell_type": "code",
      "metadata": {
        "id": "-RTh0Qc2FeEG",
        "outputId": "60cbfb00-e8b9-466f-ba9a-8c73660cb744",
        "colab": {
          "base_uri": "https://localhost:8080/",
          "height": 35
        }
      },
      "source": [
        "gnr[2]"
      ],
      "id": "-RTh0Qc2FeEG",
      "execution_count": 60,
      "outputs": [
        {
          "output_type": "execute_result",
          "data": {
            "application/vnd.google.colaboratory.intrinsic+json": {
              "type": "string"
            },
            "text/plain": [
              "'sertanejo'"
            ]
          },
          "metadata": {
            "tags": []
          },
          "execution_count": 60
        }
      ]
    },
    {
      "cell_type": "markdown",
      "metadata": {
        "id": "u9nqTuEqFoEs"
      },
      "source": [
        "12. Qual o índice de lofi?\n"
      ],
      "id": "u9nqTuEqFoEs"
    },
    {
      "cell_type": "code",
      "metadata": {
        "id": "6oEfC331FopT",
        "outputId": "213baa50-5a76-4efb-d9db-009389210ff1",
        "colab": {
          "base_uri": "https://localhost:8080/"
        }
      },
      "source": [
        "gnr.index('lo-fi')"
      ],
      "id": "6oEfC331FopT",
      "execution_count": 62,
      "outputs": [
        {
          "output_type": "execute_result",
          "data": {
            "text/plain": [
              "4"
            ]
          },
          "metadata": {
            "tags": []
          },
          "execution_count": 62
        }
      ]
    },
    {
      "cell_type": "markdown",
      "metadata": {
        "id": "mxEDjjWoFzD-"
      },
      "source": [
        "13. Crie uma tupla de tuplas com as seguintes tuplas (15,30), (20,40) e (25,50). Como acessar o valor 40?\n"
      ],
      "id": "mxEDjjWoFzD-"
    },
    {
      "cell_type": "code",
      "metadata": {
        "id": "_KU8ocBSF0Sg",
        "outputId": "58e54928-9c66-4d6f-a39c-b4687f39880d",
        "colab": {
          "base_uri": "https://localhost:8080/"
        }
      },
      "source": [
        "tuplas = ((15, 30), (20, 40), (25, 50))\n",
        "tuplas[1][1]"
      ],
      "id": "_KU8ocBSF0Sg",
      "execution_count": 63,
      "outputs": [
        {
          "output_type": "execute_result",
          "data": {
            "text/plain": [
              "40"
            ]
          },
          "metadata": {
            "tags": []
          },
          "execution_count": 63
        }
      ]
    },
    {
      "cell_type": "markdown",
      "metadata": {
        "id": "uUJI1mPfGM70"
      },
      "source": [
        "14. Acesse a tupla 'gnr' a cada dois valores, qual gêneros musicais aparecem?"
      ],
      "id": "uUJI1mPfGM70"
    },
    {
      "cell_type": "code",
      "metadata": {
        "id": "UbsVvvUxGNZI",
        "outputId": "240e41c8-aaff-40e8-9e01-853427ad788e",
        "colab": {
          "base_uri": "https://localhost:8080/"
        }
      },
      "source": [
        "for i in range(0, len(gnr), 2):\n",
        "  print(gnr[i])"
      ],
      "id": "UbsVvvUxGNZI",
      "execution_count": 69,
      "outputs": [
        {
          "output_type": "stream",
          "text": [
            "rock\n",
            "sertanejo\n",
            "lo-fi\n"
          ],
          "name": "stdout"
        }
      ]
    },
    {
      "cell_type": "markdown",
      "metadata": {
        "id": "seKarK66JR9-"
      },
      "source": [
        "\n",
        "15. Crie o dicionário 'mcu' com os seguintes dados, 'Homem de Ferro':2008, 'Homem de Ferro 2':2010, 'Homem de ferro 3':2013, 'Avengers: Endgame':2019.\n",
        "\n",
        "\n"
      ],
      "id": "seKarK66JR9-"
    },
    {
      "cell_type": "code",
      "metadata": {
        "id": "1xjLfvk3JUjc"
      },
      "source": [
        "mcu = {\n",
        "  'Homem de Ferro': 2008, 'Homem de Ferro 2': 2010, 'Homem de ferro 3': 2013, 'Avengers: Endgame': 2019  \n",
        "}"
      ],
      "id": "1xjLfvk3JUjc",
      "execution_count": 70,
      "outputs": []
    },
    {
      "cell_type": "markdown",
      "metadata": {
        "id": "1fIptnjAJp-U"
      },
      "source": [
        "\n",
        "a - No dicionário 'mcu' quais são os valores?"
      ],
      "id": "1fIptnjAJp-U"
    },
    {
      "cell_type": "code",
      "metadata": {
        "id": "U8KiRP1IKgtu",
        "outputId": "f2d23c1b-d2c3-419a-81a7-90013234c033",
        "colab": {
          "base_uri": "https://localhost:8080/"
        }
      },
      "source": [
        "mcu.values()"
      ],
      "id": "U8KiRP1IKgtu",
      "execution_count": 71,
      "outputs": [
        {
          "output_type": "execute_result",
          "data": {
            "text/plain": [
              "dict_values([2008, 2010, 2013, 2019])"
            ]
          },
          "metadata": {
            "tags": []
          },
          "execution_count": 71
        }
      ]
    },
    {
      "cell_type": "markdown",
      "metadata": {
        "id": "PnA0QqKKK4-M"
      },
      "source": [
        ""
      ],
      "id": "PnA0QqKKK4-M"
    },
    {
      "cell_type": "markdown",
      "metadata": {
        "id": "GDPfEnnEMXX-"
      },
      "source": [
        "b - No dicińario 'mcu' quais são as chaves?"
      ],
      "id": "GDPfEnnEMXX-"
    },
    {
      "cell_type": "code",
      "metadata": {
        "id": "u2_0pgJHK5g_",
        "outputId": "81cb8db4-27e4-4a63-d42c-cf6e2fd28311",
        "colab": {
          "base_uri": "https://localhost:8080/"
        }
      },
      "source": [
        "mcu.keys()"
      ],
      "id": "u2_0pgJHK5g_",
      "execution_count": 72,
      "outputs": [
        {
          "output_type": "execute_result",
          "data": {
            "text/plain": [
              "dict_keys(['Homem de Ferro', 'Homem de Ferro 2', 'Homem de ferro 3', 'Avengers: Endgame'])"
            ]
          },
          "metadata": {
            "tags": []
          },
          "execution_count": 72
        }
      ]
    },
    {
      "cell_type": "markdown",
      "metadata": {
        "id": "V99JzqjjLBk2"
      },
      "source": [
        "c - Adicione ao dicionário 'mcu' os seguintes filmes: 'Avengers Infinity War':2018, 'Avengers Age of Ultron':2015.\n"
      ],
      "id": "V99JzqjjLBk2"
    },
    {
      "cell_type": "code",
      "metadata": {
        "id": "TdGQoT8-LCGE",
        "outputId": "a9c0a2a6-ba3e-41f8-b0a6-df4605ad5d0b",
        "colab": {
          "base_uri": "https://localhost:8080/"
        }
      },
      "source": [
        "mcu[\"Avengers Infinity War\"] = 2018\n",
        "mcu[\"Avengers Age of Ultron\"] = 2015\n",
        "mcu"
      ],
      "id": "TdGQoT8-LCGE",
      "execution_count": 75,
      "outputs": [
        {
          "output_type": "execute_result",
          "data": {
            "text/plain": [
              "{'Avengers Age of Ultron': 2015,\n",
              " 'Avengers Infinity War': 2018,\n",
              " 'Avengers: Endgame': 2019,\n",
              " 'Homem de Ferro': 2008,\n",
              " 'Homem de Ferro 2': 2010,\n",
              " 'Homem de ferro 3': 2013}"
            ]
          },
          "metadata": {
            "tags": []
          },
          "execution_count": 75
        }
      ]
    },
    {
      "cell_type": "markdown",
      "metadata": {
        "id": "2HN0qXgmScLi"
      },
      "source": [
        "d - Delete o filme 'Homem de Ferro 3' do dicionário 'mcu'\n"
      ],
      "id": "2HN0qXgmScLi"
    },
    {
      "cell_type": "code",
      "metadata": {
        "id": "Ex3CR9xtSdVp"
      },
      "source": [
        "del mcu['Homem de ferro 3']\n",
        "mcu"
      ],
      "id": "Ex3CR9xtSdVp",
      "execution_count": 78,
      "outputs": []
    },
    {
      "cell_type": "code",
      "metadata": {
        "id": "Q7HvO4NSTLZP",
        "outputId": "775c8e1a-4cba-4d90-91f8-9ea9d6b5ef5e",
        "colab": {
          "base_uri": "https://localhost:8080/"
        }
      },
      "source": [
        "mcu"
      ],
      "id": "Q7HvO4NSTLZP",
      "execution_count": 79,
      "outputs": [
        {
          "output_type": "execute_result",
          "data": {
            "text/plain": [
              "{'Avengers Age of Ultron': 2015,\n",
              " 'Avengers Infinity War': 2018,\n",
              " 'Avengers: Endgame': 2019,\n",
              " 'Homem de Ferro': 2008,\n",
              " 'Homem de Ferro 2': 2010}"
            ]
          },
          "metadata": {
            "tags": []
          },
          "execution_count": 79
        }
      ]
    },
    {
      "cell_type": "markdown",
      "metadata": {
        "id": "ky7WFnddTiK9"
      },
      "source": [
        "e - Limpe o dicionário 'mcu'"
      ],
      "id": "ky7WFnddTiK9"
    },
    {
      "cell_type": "code",
      "metadata": {
        "id": "OnavvkiLTmI4",
        "outputId": "a21fac2d-4e7c-42d9-cc81-ee66ae427d0a",
        "colab": {
          "base_uri": "https://localhost:8080/"
        }
      },
      "source": [
        "mcu.clear()\n",
        "mcu"
      ],
      "id": "OnavvkiLTmI4",
      "execution_count": 80,
      "outputs": [
        {
          "output_type": "execute_result",
          "data": {
            "text/plain": [
              "{}"
            ]
          },
          "metadata": {
            "tags": []
          },
          "execution_count": 80
        }
      ]
    },
    {
      "cell_type": "markdown",
      "metadata": {
        "id": "BGWLIL23Tu9C"
      },
      "source": [
        "17. Popule o dicionário vazio 'mcu' com as informações abaixo:\n",
        "\n",
        "\n",
        "'homem de ferro':{'filmes':3,'ator principal':'Robert Downey Jr.'},'Cpt.América':{'filmes':3,'ator principal':'Chris Evans'}\n"
      ],
      "id": "BGWLIL23Tu9C"
    },
    {
      "cell_type": "code",
      "metadata": {
        "id": "AXf44wwnT4oB",
        "outputId": "6043324f-4e3e-4f60-fa08-a6bfccdefa2c",
        "colab": {
          "base_uri": "https://localhost:8080/"
        }
      },
      "source": [
        "mcu = {'homem de ferro' : {'filmes':3,'ator principal':'Robert Downey Jr.'},'Cpt.América':{'filmes':3,'ator principal':'Chris Evans'} }\n",
        "mcu"
      ],
      "id": "AXf44wwnT4oB",
      "execution_count": 2,
      "outputs": [
        {
          "output_type": "execute_result",
          "data": {
            "text/plain": [
              "{'Cpt.América': {'ator principal': 'Chris Evans', 'filmes': 3},\n",
              " 'homem de ferro': {'ator principal': 'Robert Downey Jr.', 'filmes': 3}}"
            ]
          },
          "metadata": {
            "tags": []
          },
          "execution_count": 2
        }
      ]
    },
    {
      "cell_type": "markdown",
      "metadata": {
        "id": "fyTsAcF-JO_o"
      },
      "source": [
        "Acesse somente a quantidade de filmes de cada uma das chaves do dicionário MCU.\n",
        "\n"
      ],
      "id": "fyTsAcF-JO_o"
    },
    {
      "cell_type": "code",
      "metadata": {
        "id": "rivMXi5FJQJn",
        "outputId": "7b7a51c5-673b-437d-f8e6-ac424065870c",
        "colab": {
          "base_uri": "https://localhost:8080/"
        }
      },
      "source": [
        "mcu[\"homem de ferro\"][\"filmes\"]"
      ],
      "id": "rivMXi5FJQJn",
      "execution_count": 3,
      "outputs": [
        {
          "output_type": "execute_result",
          "data": {
            "text/plain": [
              "3"
            ]
          },
          "metadata": {
            "tags": []
          },
          "execution_count": 3
        }
      ]
    },
    {
      "cell_type": "markdown",
      "metadata": {
        "id": "rJMTvv9bJhyI"
      },
      "source": [
        "Quais são as chaves do dicionário de dicionários 'mcu'?"
      ],
      "id": "rJMTvv9bJhyI"
    },
    {
      "cell_type": "code",
      "metadata": {
        "id": "xtfMrZ4KJdc_",
        "outputId": "f35217b5-fe7b-42d6-d811-64cc4804d825",
        "colab": {
          "base_uri": "https://localhost:8080/"
        }
      },
      "source": [
        "mcu.keys()"
      ],
      "id": "xtfMrZ4KJdc_",
      "execution_count": 4,
      "outputs": [
        {
          "output_type": "execute_result",
          "data": {
            "text/plain": [
              "dict_keys(['homem de ferro', 'Cpt.América'])"
            ]
          },
          "metadata": {
            "tags": []
          },
          "execution_count": 4
        }
      ]
    },
    {
      "cell_type": "markdown",
      "metadata": {
        "id": "ZPqhcPVmKHoJ"
      },
      "source": [
        "Qual o tamanho do dicionário de dicionários 'mcu'?"
      ],
      "id": "ZPqhcPVmKHoJ"
    },
    {
      "cell_type": "code",
      "metadata": {
        "id": "m7wSEYaMKIUk",
        "outputId": "b874b56d-124b-4fbb-f171-f7bc5c846c6e",
        "colab": {
          "base_uri": "https://localhost:8080/"
        }
      },
      "source": [
        "len(mcu)"
      ],
      "id": "m7wSEYaMKIUk",
      "execution_count": 8,
      "outputs": [
        {
          "output_type": "execute_result",
          "data": {
            "text/plain": [
              "2"
            ]
          },
          "metadata": {
            "tags": []
          },
          "execution_count": 8
        }
      ]
    }
  ]
}