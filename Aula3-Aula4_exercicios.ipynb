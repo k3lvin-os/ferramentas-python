{
  "nbformat": 4,
  "nbformat_minor": 5,
  "metadata": {
    "kernelspec": {
      "display_name": "Python 3",
      "language": "python",
      "name": "python3"
    },
    "language_info": {
      "codemirror_mode": {
        "name": "ipython",
        "version": 3
      },
      "file_extension": ".py",
      "mimetype": "text/x-python",
      "name": "python",
      "nbconvert_exporter": "python",
      "pygments_lexer": "ipython3",
      "version": "3.8.5"
    },
    "colab": {
      "name": "Aula3-Aula4_exercicios.ipynb",
      "provenance": []
    }
  },
  "cells": [
    {
      "cell_type": "markdown",
      "metadata": {
        "id": "9898ca93"
      },
      "source": [
        "# Exercícios - Aula 03 e Aula 04\n",
        "___\n",
        "\n",
        "\n",
        "\n",
        "5. Escreva uma função que gere uma sequencia de Fibonnaci. O único parâmetro é a quantidade de números que devem gerados. (Fibonnaci é uma sequencia onde o próximo número é a soma dos dois imediatamente anteriores a ele).\n",
        "\n",
        "6. Monte uma função que vai calcular e comparar os custos de uma viagem para 3 cidades diferentes e que, ao final, irá recomendar qual é o destino mais barato. Essa função deve receber somente uma parâmetro 'noites'. A partir desse argumento a função deve calcular o custo total de viagem para cada uma das cidades. Utilize os dados abaixo.\n",
        "\n",
        "|   Cidade  | Hotel/noite | Alimentação/noite | Locomoção/noite |\n",
        "|:---------:|:-----------:|:-----------------:|:---------------:|\n",
        "| Abu Dhabi |     1300    |        200        |       150       |\n",
        "|  Genebra  |     1200    |        150        |        80       |\n",
        "|    Oslo   |     1000    |        250        |       100       |\n",
        "\n",
        "7. Defina uma função que calcule o z-score de todos os valores de uma lista e encontre quem são os outliers (z-score abaixo de -3 e acima de 3). Use a lista abaixo:\n",
        "\n",
        "lista = [201, 102, -5558, 232, 213, -9249, -247, 1183, 211, 7598, 130, 61, 192, 207, -46, 170, 116, 106, 225, 75, 138, 107, 108, -33, -9, 170, 147, 175, 137, -5, -9, 16600, 171, 183, 147, 171, 143, 104, 7, 227, 127, 173, 178, 194, 110, 20, 99, 11, 41, 242, 250, 62, 230, -32, 239, 241, 30, -35, 132, 214, 58, 90, -12, -24, 177, 116, 53, -26, 144, 29, 41, 217, 114, 109, -15, 32, 110, 162, 221, -16, 210, 87, 76, 3100, 73, 174, 194, 93, -9, 241, 234, 79, -4800, -22, -41, 224, 249, 114, -29, 79]\n",
        "\n",
        "8. Defina uma função que recebe uma lista aplica a fórmula abaixo a cada um dos valores e retorna uma lista com o resultado.\n",
        "\n",
        "![minmax](https://androidkt.com/wp-content/uploads/2020/10/Selection_060.png)\n",
        "\n",
        "\n",
        "9. Escreva um código que dê print em todos os quadrados dos valores de 0 a 10.\n",
        "\n",
        "10. Escreva um código que encontre a soma de todos os valores pares de 0 a 10.\n",
        "\n",
        "11. Construa uma função que receba 3 valores (a,b,c) e retorne uma lista com todos os valores entre 'a' e 'b' que são múltiplos de 'c'. Utilize os valores abaixo (10,500,23).\n",
        "\n",
        "12. Escreva um código para ter o seguinte output:\n",
        "    \n",
        "    1 ---- 99\n",
        "    2 ---- 98\n",
        "    3 ---- 97\n",
        "    4 ---- 96\n",
        "    .\n",
        "    .\n",
        "    .\n",
        "    99 ---- 1\n",
        "    \n",
        "13. Construa uma função que receba um input e printe um padrão conforme exemplo.\n",
        "\n",
        "input = 5\n",
        "\n",
        "output:\n",
        "\n",
        "+<br>\n",
        "++<br>\n",
        "+++<br>\n",
        "++++<br>\n",
        "+++++\n",
        "\n",
        "\n",
        "14. Itere sobre a lista abaixo e crie uma nova lista com todos os nomes em letras maisculuas e com underline ao invés de espaços. Dica: utilize compreensão de listas.\n",
        "\n",
        "lista_nomes = ['Geralt de Rívia','Yennefer de Vengerberd','Triss Marigold','Emhyr var Emreis','Jaskier o bardo']\n",
        "\n",
        "15. Voce é um jogador de tênis. Para decidir se você vai treinar hoje você deve avaliar duas coisas: o tempo e a temperatura. Crie um programa para saber se você deve ou não treinar hoje de acordo com as seguintes especificações: \n",
        "\n",
        "- Tempo: chuvoso -> não jogar\n",
        "- Tempo: ensolarado ou nublado -> jogar\n",
        "- Temperatura maior ou igual a 15 graus e tempo ensolarado ou nublado -> jogar\n",
        "- Temperatura menor que 15 graus e tempo ensolarado ou nublado -> não jogar\n",
        "\n",
        "Se o dia estiver ensolarado e a temperatura for de 16 graus. Você irá ou não jogar?\n",
        "\n",
        "16. Pesquise e use a função ```zip()``` para juntar as duas listas abaixo.\n",
        "\n",
        "nomes = ['nasser','joao','mateus']\n",
        "salarios = [1000,1500,5000]\n",
        "\n",
        "17. Considera as duas listas abaixo, a primeira demonstra o valor real de venda de uma casa e a segunda demonstra o valor recomendado por um modelo de regressão. Gere uma terceira lista com o resíduo de cada ponto. O resíduo é o resultado da subtração entre o valor real e o valor predito para determinado ponto.\n",
        "\n",
        "real = [150358,368525,532152,144789]\n",
        "predito = [162122,365255,533200,185789]\n",
        "\n",
        "18. Ainda usando os dados da questao 17 calcule, sem utilizar bibliotecas, o RMSE do valor predito. Referência: https://tinyurl.com/yd9ljcmj"
      ],
      "id": "9898ca93"
    },
    {
      "cell_type": "code",
      "metadata": {
        "id": "LKA3N1p-t0YE"
      },
      "source": [
        ""
      ],
      "id": "LKA3N1p-t0YE",
      "execution_count": null,
      "outputs": []
    },
    {
      "cell_type": "markdown",
      "metadata": {
        "id": "Ov0YEPnNrX9y"
      },
      "source": [
        "1. Escreva uma função python que receba uma lista e separe os múltiplos de 5. Ao final ela retorna a soma de todos os valores da lista de entrada que são múltiplos de 5."
      ],
      "id": "Ov0YEPnNrX9y"
    },
    {
      "cell_type": "code",
      "metadata": {
        "id": "ac0t7YbmrYlR",
        "outputId": "7fe8777c-a818-480e-eff9-37b551736383",
        "colab": {
          "base_uri": "https://localhost:8080/"
        }
      },
      "source": [
        "def get_multiplos_de_5(lista):\n",
        "  return list(filter(lambda x: x % 5 == 0, lista))\n",
        "\n",
        "get_multiplos_de_5([1,2,3,4,5,6,7,9,10,11,12,13,14,15])"
      ],
      "id": "ac0t7YbmrYlR",
      "execution_count": 3,
      "outputs": [
        {
          "output_type": "execute_result",
          "data": {
            "text/plain": [
              "[5, 10, 15]"
            ]
          },
          "metadata": {
            "tags": []
          },
          "execution_count": 3
        }
      ]
    },
    {
      "cell_type": "markdown",
      "metadata": {
        "id": "ZoTKrEDDsMMK"
      },
      "source": [
        "2. Escreva uma função para verificar se uma palavra é um palíndromo e retorne 1 em caso positivo e 0 (zero) em caso negativo.\n"
      ],
      "id": "ZoTKrEDDsMMK"
    },
    {
      "cell_type": "code",
      "metadata": {
        "id": "GGVMHZYQsM0W",
        "outputId": "2f60927a-511b-43dd-eceb-ed88e596b5fb",
        "colab": {
          "base_uri": "https://localhost:8080/"
        }
      },
      "source": [
        "def get_palindromo(palavra : str):\n",
        "  return palavra == palavra[::-1]\n",
        "\n",
        "get_palindromo(\"tenet\")"
      ],
      "id": "GGVMHZYQsM0W",
      "execution_count": 7,
      "outputs": [
        {
          "output_type": "execute_result",
          "data": {
            "text/plain": [
              "True"
            ]
          },
          "metadata": {
            "tags": []
          },
          "execution_count": 7
        }
      ]
    },
    {
      "cell_type": "markdown",
      "metadata": {
        "id": "ifD9x_VMt2BL"
      },
      "source": [
        "3. Escreva uma função que receba uma lista crie um dicionário com a contagem dos valores dessa lista."
      ],
      "id": "ifD9x_VMt2BL"
    },
    {
      "cell_type": "code",
      "metadata": {
        "id": "JI71D5mxt2j1",
        "outputId": "f570aa6c-a3f1-4fb9-c093-48364bd08768",
        "colab": {
          "base_uri": "https://localhost:8080/"
        }
      },
      "source": [
        "def get_dicionario(lista):\n",
        "  dicionario = {}\n",
        "  for item in lista:\n",
        "    if dicionario.get(item):\n",
        "      continue\n",
        "    dicionario[str(item)] = sum(map(lambda x: x == item, lista)) \n",
        "  return dicionario\n",
        "\n",
        "get_dicionario([1, 2, 2, 2, 3, 3, 3, 3])"
      ],
      "id": "JI71D5mxt2j1",
      "execution_count": 23,
      "outputs": [
        {
          "output_type": "execute_result",
          "data": {
            "text/plain": [
              "{'1': 1, '2': 3, '3': 4}"
            ]
          },
          "metadata": {
            "tags": []
          },
          "execution_count": 23
        }
      ]
    },
    {
      "cell_type": "markdown",
      "metadata": {
        "id": "SOHvmB3Y2VUi"
      },
      "source": [
        ""
      ],
      "id": "SOHvmB3Y2VUi"
    },
    {
      "cell_type": "markdown",
      "metadata": {
        "id": "XZRlG1dm2eE8"
      },
      "source": [
        "4. Escreva uma função que receba uma lista de listas, itere sobre cada lista, some seus valores, gere uma segunda lista e descubra o desvio padrão dela.\n",
        "\n",
        "entrada : [[12,12,5,6,3,6,8,5,5,5],[3,3,3,3,4,4,15,89,20,20],[15,15,15,20,30,35,35,35,15,15],[10,10,10,10,15,15,15,15],[5,5,2,2],[8,8,89,89,898,1000]]"
      ],
      "id": "XZRlG1dm2eE8"
    },
    {
      "cell_type": "code",
      "metadata": {
        "id": "dQa4H4UQ2fwa"
      },
      "source": [
        "entrada = [[12,12,5,6,3,6,8,5,5,5],[3,3,3,3,4,4,15,89,20,20],[15,15,15,20,30,35,35,35,15,15],[10,10,10,10,15,15,15,15],[5,5,2,2],[8,8,89,89,898,1000]]\n",
        "\n",
        "def lista()"
      ],
      "id": "dQa4H4UQ2fwa",
      "execution_count": 24,
      "outputs": []
    },
    {
      "cell_type": "markdown",
      "metadata": {
        "id": "Pn3WvrR52HeM"
      },
      "source": [
        ""
      ],
      "id": "Pn3WvrR52HeM"
    }
  ]
}