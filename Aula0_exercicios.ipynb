{
  "nbformat": 4,
  "nbformat_minor": 5,
  "metadata": {
    "kernelspec": {
      "display_name": "Python 3",
      "language": "python",
      "name": "python3"
    },
    "language_info": {
      "codemirror_mode": {
        "name": "ipython",
        "version": 3
      },
      "file_extension": ".py",
      "mimetype": "text/x-python",
      "name": "python",
      "nbconvert_exporter": "python",
      "pygments_lexer": "ipython3",
      "version": "3.8.5"
    },
    "colab": {
      "name": "Aula0_exercicios.ipynb",
      "provenance": []
    }
  },
  "cells": [
    {
      "cell_type": "markdown",
      "metadata": {
        "id": "38e88a1b"
      },
      "source": [
        "## Exercícios - Aula 0\n",
        "___\n",
        "\n"
      ],
      "id": "38e88a1b"
    },
    {
      "cell_type": "markdown",
      "metadata": {
        "id": "A8z3rjE51eCF"
      },
      "source": [
        "1. Crie um algoritmo que pergunte a idade do usuário, transforme a idade enviada para ```float```, calcule a idade em meses, calcule a idade em dias e mostre o resultado de cada operação. Considere que todos os anos possuem exatamente 365 dias."
      ],
      "id": "A8z3rjE51eCF"
    },
    {
      "cell_type": "code",
      "metadata": {
        "id": "JoGT2Way1evZ",
        "outputId": "12311a9c-71a8-46ad-f0c4-4828d9cb97d9",
        "colab": {
          "base_uri": "https://localhost:8080/"
        }
      },
      "source": [
        "idade = float(input(\"Digite sua idade: \"))\n",
        "idade_em_meses = idade * 12\n",
        "idade_em_dias = idade * 365\n",
        "print(f\"Idade em meses: {idade_em_meses}\")\n",
        "print(f\"Idade em dias: {idade_em_dias}\")"
      ],
      "id": "JoGT2Way1evZ",
      "execution_count": 11,
      "outputs": [
        {
          "output_type": "stream",
          "text": [
            "Digite sua idade: 1\n",
            "Idade em meses: 12.0\n",
            "Idade em dias: 365.0\n"
          ],
          "name": "stdout"
        }
      ]
    },
    {
      "cell_type": "markdown",
      "metadata": {
        "id": "7rwbQQja7MGr"
      },
      "source": [
        "2. Crie um algoritmo que pergunte o primeiro nome, guarde na variável ```primeiro_nome```, pergunte o sobrenome , guarda na variável ```sobrenome```. Por fim o algoritmo deve printar a soma das duas variáveis com uma saudação (de sua escolha) ao usuário.\n"
      ],
      "id": "7rwbQQja7MGr"
    },
    {
      "cell_type": "code",
      "metadata": {
        "id": "gryT6TbO7KAP",
        "outputId": "a121f680-bbaf-4900-d9a0-57ac3ef6a8f2",
        "colab": {
          "base_uri": "https://localhost:8080/"
        }
      },
      "source": [
        "primeiro_nome = input(\"Digite seu primeiro nome: \")\n",
        "sobrenome = input(\"Digite seu sobrenome: \")\n",
        "print(f\"Olá, {primeiro_nome} {sobrenome}!\")"
      ],
      "id": "gryT6TbO7KAP",
      "execution_count": 14,
      "outputs": [
        {
          "output_type": "stream",
          "text": [
            "Digite seu primeiro nome: Kelvin\n",
            "Digite seu sobrenome: Oliveira\n",
            "Olá, Kelvin Oliveira!\n"
          ],
          "name": "stdout"
        }
      ]
    },
    {
      "cell_type": "markdown",
      "metadata": {
        "id": "_9f_rSmA79B7"
      },
      "source": [
        "3. No açougue do Seu Joaquim o contra-filé é R\\$39.99 o kilo. Monte um algoritmo para calcular o valor pago caso você compre 5, 10, 15, 2.5 e 5.75 kilos."
      ],
      "id": "_9f_rSmA79B7"
    },
    {
      "cell_type": "code",
      "metadata": {
        "id": "mOZCv0WB76ew",
        "outputId": "36285470-9440-467d-fd51-82ff059abc7d",
        "colab": {
          "base_uri": "https://localhost:8080/"
        }
      },
      "source": [
        "contra_file_por_kg = 39.99\n",
        "quantidades = [5, 10, 15, 2.5, 5.75]\n",
        "for quantidade in quantidades:\n",
        "  print(f\"Valor pago caso você compre {quantidade} contra filés: {round(quantidade * contra_file_por_kg, 2) }\")"
      ],
      "id": "mOZCv0WB76ew",
      "execution_count": 32,
      "outputs": [
        {
          "output_type": "stream",
          "text": [
            "Valor pago caso você compre 5 contra filés: 199.95\n",
            "Valor pago caso você compre 10 contra filés: 399.9\n",
            "Valor pago caso você compre 15 contra filés: 599.85\n",
            "Valor pago caso você compre 2.5 contra filés: 99.98\n",
            "Valor pago caso você compre 5.75 contra filés: 229.94\n"
          ],
          "name": "stdout"
        }
      ]
    },
    {
      "cell_type": "markdown",
      "metadata": {
        "id": "12-aOl9TAONL"
      },
      "source": [
        "4. Execute todas as operações aritiméticas básicas (adição, subtração, divisão e multiplicação) com as variáveis 'a' e 'b' abaixo.\n",
        "\n",
        "> a = 15<br>\n",
        "b = 12\n"
      ],
      "id": "12-aOl9TAONL"
    },
    {
      "cell_type": "code",
      "metadata": {
        "id": "EYK-FVlsAMop",
        "outputId": "5ce636ef-70d4-429c-c94b-ed4bbf29bd64",
        "colab": {
          "base_uri": "https://localhost:8080/"
        }
      },
      "source": [
        "a = 15\n",
        "b = 12\n",
        "\n",
        "operacoes = ['+', '-', '/', '*']\n",
        "\n",
        "for operacao in operacoes:\n",
        "  print(f\"{a} {operacao} {b} = {eval(str(a) + operacao + str(b))}\")"
      ],
      "id": "EYK-FVlsAMop",
      "execution_count": 37,
      "outputs": [
        {
          "output_type": "stream",
          "text": [
            "15 + 12 = 27\n",
            "15 - 12 = 3\n",
            "15 / 12 = 1.25\n",
            "15 * 12 = 180\n"
          ],
          "name": "stdout"
        }
      ]
    },
    {
      "cell_type": "markdown",
      "metadata": {
        "id": "uqSaJKd5BI48"
      },
      "source": [
        "5. Tente calcular o seu IMC utilizando somente operações matemáticas. Dica: o IMC é calculado da seguinte forma: IMC = peso / (altura em metros * altura em metros)\n"
      ],
      "id": "uqSaJKd5BI48"
    },
    {
      "cell_type": "code",
      "metadata": {
        "id": "do1TINttBJh6",
        "outputId": "3fc19220-87d5-41e8-a159-9b39cd9bc693",
        "colab": {
          "base_uri": "https://localhost:8080/"
        }
      },
      "source": [
        "peso = 58.9\n",
        "altura = 1.75\n",
        "imc = round(peso / (altura * altura), 2)\n",
        "imc"
      ],
      "id": "do1TINttBJh6",
      "execution_count": 42,
      "outputs": [
        {
          "output_type": "execute_result",
          "data": {
            "text/plain": [
              "19.23"
            ]
          },
          "metadata": {
            "tags": []
          },
          "execution_count": 42
        }
      ]
    },
    {
      "cell_type": "markdown",
      "metadata": {
        "id": "zOmsXuEMCRWT"
      },
      "source": [
        "6. Sua professora de português pediu para você escrever a frase 'português é maravilhoso' 50 vezes. Como resolver esse problema com python? Demonstre sua solução.\n"
      ],
      "id": "zOmsXuEMCRWT"
    },
    {
      "cell_type": "code",
      "metadata": {
        "id": "8WiFcf4-CR9D",
        "outputId": "3372cf10-a090-449e-d7c6-cf07c0a2d47b",
        "colab": {
          "base_uri": "https://localhost:8080/"
        }
      },
      "source": [
        "for i in range(50):\n",
        "  print('português é maravilhoso')"
      ],
      "id": "8WiFcf4-CR9D",
      "execution_count": 45,
      "outputs": [
        {
          "output_type": "stream",
          "text": [
            "português é maravilhoso\n",
            "português é maravilhoso\n",
            "português é maravilhoso\n",
            "português é maravilhoso\n",
            "português é maravilhoso\n",
            "português é maravilhoso\n",
            "português é maravilhoso\n",
            "português é maravilhoso\n",
            "português é maravilhoso\n",
            "português é maravilhoso\n",
            "português é maravilhoso\n",
            "português é maravilhoso\n",
            "português é maravilhoso\n",
            "português é maravilhoso\n",
            "português é maravilhoso\n",
            "português é maravilhoso\n",
            "português é maravilhoso\n",
            "português é maravilhoso\n",
            "português é maravilhoso\n",
            "português é maravilhoso\n",
            "português é maravilhoso\n",
            "português é maravilhoso\n",
            "português é maravilhoso\n",
            "português é maravilhoso\n",
            "português é maravilhoso\n",
            "português é maravilhoso\n",
            "português é maravilhoso\n",
            "português é maravilhoso\n",
            "português é maravilhoso\n",
            "português é maravilhoso\n",
            "português é maravilhoso\n",
            "português é maravilhoso\n",
            "português é maravilhoso\n",
            "português é maravilhoso\n",
            "português é maravilhoso\n",
            "português é maravilhoso\n",
            "português é maravilhoso\n",
            "português é maravilhoso\n",
            "português é maravilhoso\n",
            "português é maravilhoso\n",
            "português é maravilhoso\n",
            "português é maravilhoso\n",
            "português é maravilhoso\n",
            "português é maravilhoso\n",
            "português é maravilhoso\n",
            "português é maravilhoso\n",
            "português é maravilhoso\n",
            "português é maravilhoso\n",
            "português é maravilhoso\n",
            "português é maravilhoso\n"
          ],
          "name": "stdout"
        }
      ]
    },
    {
      "cell_type": "markdown",
      "metadata": {
        "id": "X1t1tTPeC4rb"
      },
      "source": [
        "\n",
        "\n",
        "7. Um modelo de regressão linear possui a seguinte fórmula: y=0.253*x + 125. Qual será o valor de Y quando X for 125?"
      ],
      "id": "X1t1tTPeC4rb"
    },
    {
      "cell_type": "code",
      "metadata": {
        "id": "tr2QSYSaC5WP",
        "outputId": "ec54789d-6012-4e0e-a5fb-02dbcc338570",
        "colab": {
          "base_uri": "https://localhost:8080/"
        }
      },
      "source": [
        "x = 125\n",
        "y = 0.253 * x + 125\n",
        "y"
      ],
      "id": "tr2QSYSaC5WP",
      "execution_count": 47,
      "outputs": [
        {
          "output_type": "execute_result",
          "data": {
            "text/plain": [
              "156.625"
            ]
          },
          "metadata": {
            "tags": []
          },
          "execution_count": 47
        }
      ]
    },
    {
      "cell_type": "markdown",
      "metadata": {
        "id": "Pu1IeEhuDZQS"
      },
      "source": [
        "8. Cria uma variável chamada ```a```, atribua o valor 15 para ela. Na linha abaixo escreva a = b = 15. Qual será o valor de ```a```?"
      ],
      "id": "Pu1IeEhuDZQS"
    },
    {
      "cell_type": "code",
      "metadata": {
        "id": "OBP5iiXDDaSq",
        "outputId": "8fbb4217-1fc1-41c4-ada1-69000f709849",
        "colab": {
          "base_uri": "https://localhost:8080/"
        }
      },
      "source": [
        "a = 15\n",
        "a = b = 15\n",
        "a"
      ],
      "id": "OBP5iiXDDaSq",
      "execution_count": 48,
      "outputs": [
        {
          "output_type": "execute_result",
          "data": {
            "text/plain": [
              "15"
            ]
          },
          "metadata": {
            "tags": []
          },
          "execution_count": 48
        }
      ]
    },
    {
      "cell_type": "markdown",
      "metadata": {
        "id": "xOG4rE9pDtf6"
      },
      "source": [
        "9. É possível criar uma variável chamada ```1_2_3_variavel```? Se não, qual o motivo?"
      ],
      "id": "xOG4rE9pDtf6"
    },
    {
      "cell_type": "code",
      "metadata": {
        "id": "uG6bt8cuDtEc",
        "outputId": "c01bb656-8c7a-43a0-a691-9fc0a0423199",
        "colab": {
          "base_uri": "https://localhost:8080/",
          "height": 129
        }
      },
      "source": [
        "1_2_3_variavel = 10"
      ],
      "id": "uG6bt8cuDtEc",
      "execution_count": 50,
      "outputs": [
        {
          "output_type": "error",
          "ename": "SyntaxError",
          "evalue": "ignored",
          "traceback": [
            "\u001b[0;36m  File \u001b[0;32m\"<ipython-input-50-ff94c9b84074>\"\u001b[0;36m, line \u001b[0;32m1\u001b[0m\n\u001b[0;31m    1_2_3_variavel = 10\u001b[0m\n\u001b[0m         ^\u001b[0m\n\u001b[0;31mSyntaxError\u001b[0m\u001b[0;31m:\u001b[0m invalid token\n"
          ]
        }
      ]
    },
    {
      "cell_type": "markdown",
      "metadata": {
        "id": "reTX-U0mD5mh"
      },
      "source": [
        "Não é possível criar uma variável começando por um número , é uma das regras do Pyhton para facilitar na interpretação de seus programas, bem como uma herança de outras linguagens que serviram de base, como linguagem C"
      ],
      "id": "reTX-U0mD5mh"
    },
    {
      "cell_type": "markdown",
      "metadata": {
        "id": "TlKTnqPlEOX6"
      },
      "source": [
        "10. Crie uma variável chamada ```temp_em_graus``` e atribua a temperatura de hoje a ela. Crie uma segunda ```temp_em_f``` e guarde a transformação do valor da primeira variável de graus para Fahrenheit."
      ],
      "id": "TlKTnqPlEOX6"
    },
    {
      "cell_type": "code",
      "metadata": {
        "id": "cy2xd2-FEPKE",
        "outputId": "40fd2740-c919-4d6c-8a63-aba6b12d6623",
        "colab": {
          "base_uri": "https://localhost:8080/"
        }
      },
      "source": [
        "temp_em_graus = 13\n",
        "temp_em_f = temp_em_graus * 1.8 + 32\n",
        "round(temp_em_f, 2)"
      ],
      "id": "cy2xd2-FEPKE",
      "execution_count": 53,
      "outputs": [
        {
          "output_type": "execute_result",
          "data": {
            "text/plain": [
              "55.4"
            ]
          },
          "metadata": {
            "tags": []
          },
          "execution_count": 53
        }
      ]
    }
  ]
}