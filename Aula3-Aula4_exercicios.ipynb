{
  "nbformat": 4,
  "nbformat_minor": 5,
  "metadata": {
    "kernelspec": {
      "display_name": "Python 3",
      "language": "python",
      "name": "python3"
    },
    "language_info": {
      "codemirror_mode": {
        "name": "ipython",
        "version": 3
      },
      "file_extension": ".py",
      "mimetype": "text/x-python",
      "name": "python",
      "nbconvert_exporter": "python",
      "pygments_lexer": "ipython3",
      "version": "3.8.5"
    },
    "colab": {
      "name": "Aula3-Aula4_exercicios.ipynb",
      "provenance": []
    }
  },
  "cells": [
    {
      "cell_type": "markdown",
      "metadata": {
        "id": "9898ca93"
      },
      "source": [
        "# Exercícios - Aula 03 e Aula 04\n",
        "___\n"
      ],
      "id": "9898ca93"
    },
    {
      "cell_type": "markdown",
      "metadata": {
        "id": "Ov0YEPnNrX9y"
      },
      "source": [
        "1. Escreva uma função python que receba uma lista e separe os múltiplos de 5. Ao final ela retorna a soma de todos os valores da lista de entrada que são múltiplos de 5."
      ],
      "id": "Ov0YEPnNrX9y"
    },
    {
      "cell_type": "code",
      "metadata": {
        "colab": {
          "base_uri": "https://localhost:8080/"
        },
        "id": "ac0t7YbmrYlR",
        "outputId": "ed48274e-fe73-410c-82ae-ac82142fbec3"
      },
      "source": [
        "def get_multiplos_de_5(lista):\n",
        "  return list(filter(lambda x: x % 5 == 0, lista))\n",
        "\n",
        "get_multiplos_de_5([1,2,3,4,5,6,7,9,10,11,12,13,14,15])"
      ],
      "id": "ac0t7YbmrYlR",
      "execution_count": null,
      "outputs": [
        {
          "output_type": "execute_result",
          "data": {
            "text/plain": [
              "[5, 10, 15]"
            ]
          },
          "metadata": {
            "tags": []
          },
          "execution_count": 6
        }
      ]
    },
    {
      "cell_type": "markdown",
      "metadata": {
        "id": "ZoTKrEDDsMMK"
      },
      "source": [
        "2. Escreva uma função para verificar se uma palavra é um palíndromo e retorne 1 em caso positivo e 0 (zero) em caso negativo.\n"
      ],
      "id": "ZoTKrEDDsMMK"
    },
    {
      "cell_type": "code",
      "metadata": {
        "colab": {
          "base_uri": "https://localhost:8080/"
        },
        "id": "GGVMHZYQsM0W",
        "outputId": "9bfd2625-e498-4cf8-9c0e-5773eb10dc4f"
      },
      "source": [
        "def get_palindromo(palavra : str):\n",
        "  return palavra == palavra[::-1]\n",
        "\n",
        "get_palindromo(\"tenet\")"
      ],
      "id": "GGVMHZYQsM0W",
      "execution_count": null,
      "outputs": [
        {
          "output_type": "execute_result",
          "data": {
            "text/plain": [
              "True"
            ]
          },
          "metadata": {
            "tags": []
          },
          "execution_count": 7
        }
      ]
    },
    {
      "cell_type": "markdown",
      "metadata": {
        "id": "ifD9x_VMt2BL"
      },
      "source": [
        "3. Escreva uma função que receba uma lista crie um dicionário com a contagem dos valores dessa lista."
      ],
      "id": "ifD9x_VMt2BL"
    },
    {
      "cell_type": "code",
      "metadata": {
        "colab": {
          "base_uri": "https://localhost:8080/"
        },
        "id": "JI71D5mxt2j1",
        "outputId": "07f42eb8-1c04-4aaf-b886-78dda9d36123"
      },
      "source": [
        "def get_dicionario(lista):\n",
        "  dicionario = {}\n",
        "  for item in lista:\n",
        "    if dicionario.get(item):\n",
        "      continue\n",
        "    dicionario[str(item)] = sum(map(lambda x: x == item, lista)) \n",
        "  return dicionario\n",
        "\n",
        "get_dicionario([1, 2, 2, 2, 3, 3, 3, 3])"
      ],
      "id": "JI71D5mxt2j1",
      "execution_count": null,
      "outputs": [
        {
          "output_type": "execute_result",
          "data": {
            "text/plain": [
              "{'1': 1, '2': 3, '3': 4}"
            ]
          },
          "metadata": {
            "tags": []
          },
          "execution_count": 8
        }
      ]
    },
    {
      "cell_type": "markdown",
      "metadata": {
        "id": "SOHvmB3Y2VUi"
      },
      "source": [
        ""
      ],
      "id": "SOHvmB3Y2VUi"
    },
    {
      "cell_type": "markdown",
      "metadata": {
        "id": "XZRlG1dm2eE8"
      },
      "source": [
        "4. Escreva uma função que receba uma lista de listas, itere sobre cada lista, some seus valores, gere uma segunda lista e descubra o desvio padrão dela.\n",
        "\n",
        "entrada : [[12,12,5,6,3,6,8,5,5,5],[3,3,3,3,4,4,15,89,20,20],[15,15,15,20,30,35,35,35,15,15],[10,10,10,10,15,15,15,15],[5,5,2,2],[8,8,89,89,898,1000]]"
      ],
      "id": "XZRlG1dm2eE8"
    },
    {
      "cell_type": "code",
      "metadata": {
        "colab": {
          "base_uri": "https://localhost:8080/"
        },
        "id": "dQa4H4UQ2fwa",
        "outputId": "f13cf008-40f7-4e14-ffd4-b63568e494fa"
      },
      "source": [
        "import math\n",
        "\n",
        "def variancia(dados, amostral = False):\n",
        "    n = len(dados)\n",
        "    media = sum(dados) / n\n",
        "    return sum((x - media) ** 2 for x in dados) / (n - int(amostral))\n",
        "\n",
        "def desvio_padrao(dados, amostral = False):\n",
        "  d2 = variancia(dados, amostral)\n",
        "  d = math.sqrt(d2)\n",
        "  return d\n",
        "\n",
        "def funcao(listas):\n",
        "  for lista in listas:\n",
        "    print(f\"Lista: {lista}\")\n",
        "    print(f\"Soma da lista: {sum(lista)}\")\n",
        "    print(f\"Desvio padrão da lista: desvio_padrao: {round(desvio_padrao(lista, amostral = True), 2)}\", end=\"\\n\\n\")\n",
        "\n",
        "\n",
        "entrada = [[12,12,5,6,3,6,8,5,5,5],[3,3,3,3,4,4,15,89,20,20],[15,15,15,20,30,35,35,35,15,15],[10,10,10,10,15,15,15,15],[5,5,2,2],[8,8,89,89,898,1000]]\n",
        "\n",
        "funcao(entrada)\n",
        "\n",
        "  "
      ],
      "id": "dQa4H4UQ2fwa",
      "execution_count": 14,
      "outputs": [
        {
          "output_type": "stream",
          "text": [
            "Lista: [12, 12, 5, 6, 3, 6, 8, 5, 5, 5]\n",
            "Soma da lista: 67\n",
            "Desvio padrão da lista: desvio_padrao: 3.06\n",
            "\n",
            "Lista: [3, 3, 3, 3, 4, 4, 15, 89, 20, 20]\n",
            "Soma da lista: 164\n",
            "Desvio padrão da lista: desvio_padrao: 26.51\n",
            "\n",
            "Lista: [15, 15, 15, 20, 30, 35, 35, 35, 15, 15]\n",
            "Soma da lista: 230\n",
            "Desvio padrão da lista: desvio_padrao: 9.49\n",
            "\n",
            "Lista: [10, 10, 10, 10, 15, 15, 15, 15]\n",
            "Soma da lista: 100\n",
            "Desvio padrão da lista: desvio_padrao: 2.67\n",
            "\n",
            "Lista: [5, 5, 2, 2]\n",
            "Soma da lista: 14\n",
            "Desvio padrão da lista: desvio_padrao: 1.73\n",
            "\n",
            "Lista: [8, 8, 89, 89, 898, 1000]\n",
            "Soma da lista: 2092\n",
            "Desvio padrão da lista: desvio_padrao: 467.54\n",
            "\n"
          ],
          "name": "stdout"
        }
      ]
    },
    {
      "cell_type": "markdown",
      "metadata": {
        "id": "TA2SoNM5aqtR"
      },
      "source": [
        "\n",
        "5. Escreva uma função que gere uma sequencia de Fibonnaci. O único parâmetro é a quantidade de números que devem gerados. (Fibonnaci é uma sequencia onde o próximo número é a soma dos dois imediatamente anteriores a ele).\n"
      ],
      "id": "TA2SoNM5aqtR"
    },
    {
      "cell_type": "code",
      "metadata": {
        "id": "NRrokySNarP9",
        "outputId": "c8def62d-3483-4d4d-a2ca-67b5677068fa",
        "colab": {
          "base_uri": "https://localhost:8080/",
          "height": 35
        }
      },
      "source": [
        "import functools\n",
        "\n",
        "def fibonnaci(quantidade):\n",
        "  if quantidade <= 0:\n",
        "    return \n",
        "\n",
        "  if quantidade == 1:\n",
        "    return \"0, ..\"\n",
        "  \n",
        "  numeros = [0, 1]\n",
        "  \n",
        "  while len(numeros) < quantidade:\n",
        "      numeros.append(numeros[-1] + numeros[-2])\n",
        "\n",
        "  return f\"{functools.reduce(lambda x, y: f'{x} , {y}', numeros)}, ..\"\n",
        "\n",
        "\n",
        "    \n",
        "fibonnaci(19)"
      ],
      "id": "NRrokySNarP9",
      "execution_count": 69,
      "outputs": [
        {
          "output_type": "execute_result",
          "data": {
            "application/vnd.google.colaboratory.intrinsic+json": {
              "type": "string"
            },
            "text/plain": [
              "'0 , 1 , 1 , 2 , 3 , 5 , 8 , 13 , 21 , 34 , 55 , 89 , 144 , 233 , 377 , 610 , 987 , 1597 , 2584, ..'"
            ]
          },
          "metadata": {
            "tags": []
          },
          "execution_count": 69
        }
      ]
    },
    {
      "cell_type": "markdown",
      "metadata": {
        "id": "nemilDbLh5dB"
      },
      "source": [
        "6. Monte uma função que vai calcular e comparar os custos de uma viagem para 3 cidades diferentes e que, ao final, irá recomendar qual é o destino mais barato. Essa função deve receber somente uma parâmetro 'noites'. A partir desse argumento a função deve calcular o custo total de viagem para cada uma das cidades. Utilize os dados abaixo.\n",
        "\n",
        "\n",
        "|   Cidade  | Hotel/noite | Alimentação/noite | Locomoção/noite |\n",
        "|:---------:|:-----------:|:-----------------:|:---------------:|\n",
        "| Abu Dhabi |     1300    |        200        |       150       |\n",
        "|  Genebra  |     1200    |        150        |        80       |\n",
        "|    Oslo   |     1000    |        250        |       100       |\n"
      ],
      "id": "nemilDbLh5dB"
    },
    {
      "cell_type": "code",
      "metadata": {
        "id": "R50uDt4GiDlN"
      },
      "source": [
        "class Cidade:\n",
        "\n",
        "  def __init__(self, nome, hotel_noite, alimentacao_noite, locomocao_noite):\n",
        "    self.nome = nome\n",
        "    self.hotel_noite = hotel_noite\n",
        "    self.alimentacao_noite = alimentacao_noite\n",
        "    self.locomocao_noite = locomocao_noite\n",
        "\n",
        "  def custo_total(self, noites):\n",
        "    return (self.hotel_noite + self.alimentacao_noite + self.locomocao_noite) * noites\n",
        "\n",
        "  def __str__(self):\n",
        "    return self.nome\n",
        "  \n",
        "  def __repr__(self):\n",
        "    return self.nome\n",
        "\n",
        "cidades = [\n",
        "  Cidade(\"Abu Dhabi\", 1300, 200, 150),\n",
        "  Cidade(\"Genebra\", 1200, 150, 80),\n",
        "  Cidade(\"Oslo\", 1000, 250, 100)\n",
        "]"
      ],
      "id": "R50uDt4GiDlN",
      "execution_count": 10,
      "outputs": []
    },
    {
      "cell_type": "code",
      "metadata": {
        "id": "HK-YHvfuh6ev",
        "outputId": "1857f105-3708-4f92-f4e5-07b14c29a2ee",
        "colab": {
          "base_uri": "https://localhost:8080/"
        }
      },
      "source": [
        "import functools\n",
        "\n",
        "def custo_mais_barato(noites):\n",
        "  if noites <= 0:\n",
        "    return\n",
        "\n",
        "  return functools.reduce(lambda x, y: x if x.custo_total(noites) < y.custo_total(noites) else y, cidades)\n",
        "\n",
        "custo_mais_barato(10)"
      ],
      "id": "HK-YHvfuh6ev",
      "execution_count": 22,
      "outputs": [
        {
          "output_type": "execute_result",
          "data": {
            "text/plain": [
              "Oslo"
            ]
          },
          "metadata": {
            "tags": []
          },
          "execution_count": 22
        }
      ]
    },
    {
      "cell_type": "markdown",
      "metadata": {
        "id": "GsZ2Rb-DssIj"
      },
      "source": [
        "7. Defina uma função que calcule o z-score de todos os valores de uma lista e encontre quem são os outliers (z-score abaixo de -3 e acima de 3). Use a lista abaixo:"
      ],
      "id": "GsZ2Rb-DssIj"
    },
    {
      "cell_type": "markdown",
      "metadata": {
        "id": "AITTtIY-tTyS"
      },
      "source": [
        "lista = [201, 102, -5558, 232, 213, -9249, -247, 1183, 211, 7598, 130, 61, 192, 207, -46, 170, 116, 106, 225, 75, 138, 107, 108, -33, -9, 170, 147, 175, 137, -5, -9, 16600, 171, 183, 147, 171, 143, 104, 7, 227, 127, 173, 178, 194, 110, 20, 99, 11, 41, 242, 250, 62, 230, -32, 239, 241, 30, -35, 132, 214, 58, 90, -12, -24, 177, 116, 53, -26, 144, 29, 41, 217, 114, 109, -15, 32, 110, 162, 221, -16, 210, 87, 76, 3100, 73, 174, 194, 93, -9, 241, 234, 79, -4800, -22, -41, 224, 249, 114, -29, 79]"
      ],
      "id": "AITTtIY-tTyS"
    },
    {
      "cell_type": "code",
      "metadata": {
        "id": "OivuxaNStUci"
      },
      "source": [
        "lista = [201, 102, -5558, 232, 213, -9249, -247, 1183, 211, 7598, 130, 61, 192, 207, -46, 170, 116, 106, 225, 75, 138, 107, 108, -33, -9, 170, 147, 175, 137, -5, -9, 16600, 171, 183, 147, 171, 143, 104, 7, 227, 127, 173, 178, 194, 110, 20, 99, 11, 41, 242, 250, 62, 230, -32, 239, 241, 30, -35, 132, 214, 58, 90, -12, -24, 177, 116, 53, -26, 144, 29, 41, 217, 114, 109, -15, 32, 110, 162, 221, -16, 210, 87, 76, 3100, 73, 174, 194, 93, -9, 241, 234, 79, -4800, -22, -41, 224, 249, 114, -29, 79]"
      ],
      "id": "OivuxaNStUci",
      "execution_count": 24,
      "outputs": []
    },
    {
      "cell_type": "code",
      "metadata": {
        "id": "Sul1TsyGssh8",
        "outputId": "e464e8e2-c8fd-4f4b-c36e-9096180d4f3c",
        "colab": {
          "base_uri": "https://localhost:8080/"
        }
      },
      "source": [
        "import math\n",
        "\n",
        "def z_score(x, mean, sd):\n",
        "  return (x - mean) / sd\n",
        "\n",
        "def avg(terms):\n",
        "  return sum(terms) / len(terms)\n",
        "\n",
        "def variancia(dados, amostral = False):\n",
        "    n = len(dados)\n",
        "    media = sum(dados) / n\n",
        "    return sum((x - media) ** 2 for x in dados) / (n - int(amostral))\n",
        "\n",
        "def desvio_padrao(dados, amostral = False):\n",
        "  d2 = variancia(dados, amostral)\n",
        "  d = math.sqrt(d2)\n",
        "  return d\n",
        "\n",
        "def z_score_lista(lista):\n",
        "  media = avg(lista)\n",
        "  desvio_padrao_calculado = desvio_padrao(lista)\n",
        "  return list(map(lambda x: z_score(x, media, desvio_padrao_calculado), lista))\n",
        "\n",
        "z_score_lista(lista)"
      ],
      "id": "Sul1TsyGssh8",
      "execution_count": 34,
      "outputs": [
        {
          "output_type": "execute_result",
          "data": {
            "text/plain": [
              "[0.004859569782318368,\n",
              " -0.0402292220123882,\n",
              " -2.6180328741137937,\n",
              " 0.01897828236449921,\n",
              " 0.010324877878646437,\n",
              " -4.299070556076035,\n",
              " -0.19917859914726288,\n",
              " 0.45210394899849865,\n",
              " 0.009413993195925093,\n",
              " 3.3737665688272123,\n",
              " -0.02747683645428937,\n",
              " -0.05890235800817577,\n",
              " 0.0007605887100723172,\n",
              " 0.007592223830482403,\n",
              " -0.10763468853376772,\n",
              " -0.009259142799862475,\n",
              " -0.033853029233338786,\n",
              " -0.038407452646945506,\n",
              " 0.015790185974974506,\n",
              " -0.05252616522912635,\n",
              " -0.023833297723403993,\n",
              " -0.037952010305584837,\n",
              " -0.03749656796422416,\n",
              " -0.10171393809607897,\n",
              " -0.09078332190342284,\n",
              " -0.009259142799862475,\n",
              " -0.019734316651157942,\n",
              " -0.006981931093059114,\n",
              " -0.024288740064764665,\n",
              " -0.08896155253798015,\n",
              " -0.09078332190342284,\n",
              " 7.473658525755984,\n",
              " -0.008803700458501804,\n",
              " -0.0033383923621737345,\n",
              " -0.019734316651157942,\n",
              " -0.008803700458501804,\n",
              " -0.02155608601660063,\n",
              " -0.03931833732966685,\n",
              " -0.08349624444165207,\n",
              " 0.01670107065769585,\n",
              " -0.02884316347837139,\n",
              " -0.007892815775780458,\n",
              " -0.005615604068977096,\n",
              " 0.0016714733927936619,\n",
              " -0.03658568328150282,\n",
              " -0.07757549400396334,\n",
              " -0.04159554903647022,\n",
              " -0.08167447507620938,\n",
              " -0.06801120483538921,\n",
              " 0.02353270577810594,\n",
              " 0.027176244508991317,\n",
              " -0.05844691566681509,\n",
              " 0.01806739768177787,\n",
              " -0.10125849575471829,\n",
              " 0.02216637875402392,\n",
              " 0.023077263436745266,\n",
              " -0.0730210705903566,\n",
              " -0.10262482277880032,\n",
              " -0.026565951771568026,\n",
              " 0.01078032022000711,\n",
              " -0.06026868503225778,\n",
              " -0.04569453010871627,\n",
              " -0.09214964892750485,\n",
              " -0.09761495702383292,\n",
              " -0.006071046410337769,\n",
              " -0.033853029233338786,\n",
              " -0.06254589673906115,\n",
              " -0.09852584170655426,\n",
              " -0.021100643675239956,\n",
              " -0.07347651293171728,\n",
              " -0.06801120483538921,\n",
              " 0.012146647244089127,\n",
              " -0.03476391391606013,\n",
              " -0.03704112562286349,\n",
              " -0.09351597595158687,\n",
              " -0.07211018590763527,\n",
              " -0.03658568328150282,\n",
              " -0.012902681530747855,\n",
              " 0.013968416609531817,\n",
              " -0.09397141829294754,\n",
              " 0.00895855085456442,\n",
              " -0.047060857132798284,\n",
              " -0.05207072288776568,\n",
              " 1.3251869173869077,\n",
              " -0.053437049911847695,\n",
              " -0.0074373734344197855,\n",
              " 0.0016714733927936619,\n",
              " -0.04432820308463425,\n",
              " -0.09078332190342284,\n",
              " 0.023077263436745266,\n",
              " 0.019889167047220557,\n",
              " -0.050704395863683666,\n",
              " -2.272807579362404,\n",
              " -0.09670407234111157,\n",
              " -0.10535747682696435,\n",
              " 0.015334743633613833,\n",
              " 0.026720802167630644,\n",
              " -0.03476391391606013,\n",
              " -0.09989216873063628,\n",
              " -0.050704395863683666]"
            ]
          },
          "metadata": {
            "tags": []
          },
          "execution_count": 34
        }
      ]
    },
    {
      "cell_type": "markdown",
      "metadata": {
        "id": "2o5rMdZ2x30L"
      },
      "source": [
        "\n",
        "8. Defina uma função que recebe uma lista aplica a fórmula abaixo a cada um dos valores e retorna uma lista com o resultado.\n",
        "\n",
        "![minmax](https://androidkt.com/wp-content/uploads/2020/10/Selection_060.png)\n"
      ],
      "id": "2o5rMdZ2x30L"
    },
    {
      "cell_type": "code",
      "metadata": {
        "id": "5gJJmPM2x4cH"
      },
      "source": [
        "def x_linha(lista):\n",
        "  return list(map(lambda x: (x - min(lista)) / (max(lista) - min(lista)), lista))"
      ],
      "id": "5gJJmPM2x4cH",
      "execution_count": 42,
      "outputs": []
    },
    {
      "cell_type": "code",
      "metadata": {
        "id": "W8-mFxsnsqRJ",
        "outputId": "43789a65-7de2-4129-aa39-c54c6b46ddeb",
        "colab": {
          "base_uri": "https://localhost:8080/"
        }
      },
      "source": [
        "x_linha([1, 2, 3, 4, 5, 6, 7, 8, 9, 10])"
      ],
      "id": "W8-mFxsnsqRJ",
      "execution_count": 43,
      "outputs": [
        {
          "output_type": "execute_result",
          "data": {
            "text/plain": [
              "[0.0,\n",
              " 0.1111111111111111,\n",
              " 0.2222222222222222,\n",
              " 0.3333333333333333,\n",
              " 0.4444444444444444,\n",
              " 0.5555555555555556,\n",
              " 0.6666666666666666,\n",
              " 0.7777777777777778,\n",
              " 0.8888888888888888,\n",
              " 1.0]"
            ]
          },
          "metadata": {
            "tags": []
          },
          "execution_count": 43
        }
      ]
    },
    {
      "cell_type": "markdown",
      "metadata": {
        "id": "hD4Hx6tFKVhg"
      },
      "source": [
        "9. Escreva um código que dê print em todos os quadrados dos valores de 0 a 10.\n"
      ],
      "id": "hD4Hx6tFKVhg"
    },
    {
      "cell_type": "code",
      "metadata": {
        "id": "ybE-MrdfNp_u",
        "outputId": "097bed3d-a6b7-43a3-a202-993efd4a2a34",
        "colab": {
          "base_uri": "https://localhost:8080/"
        }
      },
      "source": [
        "def get_quadrados_0_10():\n",
        "  [print(x ** 2) for x in range(0, 11)]\n",
        "\n",
        "get_quadrados_0_10()"
      ],
      "id": "ybE-MrdfNp_u",
      "execution_count": 48,
      "outputs": [
        {
          "output_type": "stream",
          "text": [
            "0\n",
            "1\n",
            "4\n",
            "9\n",
            "16\n",
            "25\n",
            "36\n",
            "49\n",
            "64\n",
            "81\n",
            "100\n"
          ],
          "name": "stdout"
        }
      ]
    },
    {
      "cell_type": "markdown",
      "metadata": {
        "id": "k8zaTMVeODgt"
      },
      "source": [
        "10. Escreva um código que encontre a soma de todos os valores pares de 0 a 10."
      ],
      "id": "k8zaTMVeODgt"
    },
    {
      "cell_type": "code",
      "metadata": {
        "id": "KF72HROiN82D",
        "outputId": "4f05eea8-fba0-4523-cb89-19736d1329c4",
        "colab": {
          "base_uri": "https://localhost:8080/"
        }
      },
      "source": [
        "def get_somas_dos_pares_0_10():\n",
        "  return sum([x for x in range(0, 11) if x % 2 == 0])\n",
        "\n",
        "get_somas_dos_pares_0_10()"
      ],
      "id": "KF72HROiN82D",
      "execution_count": 52,
      "outputs": [
        {
          "output_type": "execute_result",
          "data": {
            "text/plain": [
              "30"
            ]
          },
          "metadata": {
            "tags": []
          },
          "execution_count": 52
        }
      ]
    },
    {
      "cell_type": "markdown",
      "metadata": {
        "id": "-27YN_OAO4kF"
      },
      "source": [
        "\n",
        "11. Construa uma função que receba 3 valores (a,b,c) e retorne uma lista com todos os valores entre 'a' e 'b' que são múltiplos de 'c'. Utilize os valores abaixo (10,500,23).\n"
      ],
      "id": "-27YN_OAO4kF"
    },
    {
      "cell_type": "code",
      "metadata": {
        "id": "gLKRG8EJO5fn",
        "outputId": "2efa5173-d2c6-4e0a-c4bd-733fc7a2f4f1",
        "colab": {
          "base_uri": "https://localhost:8080/"
        }
      },
      "source": [
        "def get_multiplos_de_c_entre_a_e_b(a, b, c):\n",
        "  return [x for x in range(a, b + 1) if x % c == 0]\n",
        "\n",
        "get_multiplos_de_c_entre_a_e_b(10, 500, 23)"
      ],
      "id": "gLKRG8EJO5fn",
      "execution_count": 54,
      "outputs": [
        {
          "output_type": "execute_result",
          "data": {
            "text/plain": [
              "[23,\n",
              " 46,\n",
              " 69,\n",
              " 92,\n",
              " 115,\n",
              " 138,\n",
              " 161,\n",
              " 184,\n",
              " 207,\n",
              " 230,\n",
              " 253,\n",
              " 276,\n",
              " 299,\n",
              " 322,\n",
              " 345,\n",
              " 368,\n",
              " 391,\n",
              " 414,\n",
              " 437,\n",
              " 460,\n",
              " 483]"
            ]
          },
          "metadata": {
            "tags": []
          },
          "execution_count": 54
        }
      ]
    },
    {
      "cell_type": "markdown",
      "metadata": {
        "id": "alcyt-qZQPAt"
      },
      "source": [
        "12. Escreva um código para ter o seguinte output:\n",
        "    \n",
        "    1 ---- 99\n",
        "    2 ---- 98\n",
        "    3 ---- 97\n",
        "    4 ---- 96\n",
        "    .\n",
        "    .\n",
        "    .\n",
        "    99 ---- 1"
      ],
      "id": "alcyt-qZQPAt"
    },
    {
      "cell_type": "code",
      "metadata": {
        "id": "E-2lVC02QIF_",
        "outputId": "fea88b36-fa52-4cec-af69-00901ae44d49",
        "colab": {
          "base_uri": "https://localhost:8080/"
        }
      },
      "source": [
        "def get_output():\n",
        "  a = 1\n",
        "  b = 99\n",
        "  [print(f\"{a + x} ---- {b - x}\", end=\" \") for x in range(a - 1, b + 1)]\n",
        "\n",
        "get_output()"
      ],
      "id": "E-2lVC02QIF_",
      "execution_count": 58,
      "outputs": [
        {
          "output_type": "stream",
          "text": [
            "1 ---- 99 2 ---- 98 3 ---- 97 4 ---- 96 5 ---- 95 6 ---- 94 7 ---- 93 8 ---- 92 9 ---- 91 10 ---- 90 11 ---- 89 12 ---- 88 13 ---- 87 14 ---- 86 15 ---- 85 16 ---- 84 17 ---- 83 18 ---- 82 19 ---- 81 20 ---- 80 21 ---- 79 22 ---- 78 23 ---- 77 24 ---- 76 25 ---- 75 26 ---- 74 27 ---- 73 28 ---- 72 29 ---- 71 30 ---- 70 31 ---- 69 32 ---- 68 33 ---- 67 34 ---- 66 35 ---- 65 36 ---- 64 37 ---- 63 38 ---- 62 39 ---- 61 40 ---- 60 41 ---- 59 42 ---- 58 43 ---- 57 44 ---- 56 45 ---- 55 46 ---- 54 47 ---- 53 48 ---- 52 49 ---- 51 50 ---- 50 51 ---- 49 52 ---- 48 53 ---- 47 54 ---- 46 55 ---- 45 56 ---- 44 57 ---- 43 58 ---- 42 59 ---- 41 60 ---- 40 61 ---- 39 62 ---- 38 63 ---- 37 64 ---- 36 65 ---- 35 66 ---- 34 67 ---- 33 68 ---- 32 69 ---- 31 70 ---- 30 71 ---- 29 72 ---- 28 73 ---- 27 74 ---- 26 75 ---- 25 76 ---- 24 77 ---- 23 78 ---- 22 79 ---- 21 80 ---- 20 81 ---- 19 82 ---- 18 83 ---- 17 84 ---- 16 85 ---- 15 86 ---- 14 87 ---- 13 88 ---- 12 89 ---- 11 90 ---- 10 91 ---- 9 92 ---- 8 93 ---- 7 94 ---- 6 95 ---- 5 96 ---- 4 97 ---- 3 98 ---- 2 99 ---- 1 100 ---- 0 "
          ],
          "name": "stdout"
        }
      ]
    },
    {
      "cell_type": "markdown",
      "metadata": {
        "id": "HLItChSGRw-t"
      },
      "source": [
        ""
      ],
      "id": "HLItChSGRw-t"
    },
    {
      "cell_type": "markdown",
      "metadata": {
        "id": "XAxIa59JR4tl"
      },
      "source": [
        "    \n",
        "13. Construa uma função que receba um input e printe um padrão conforme exemplo.\n",
        "\n",
        "input = 5\n",
        "\n",
        "output:\n",
        "\n",
        "+<br>\n",
        "++<br>\n",
        "+++<br>\n",
        "++++<br>\n",
        "+++++\n"
      ],
      "id": "XAxIa59JR4tl"
    },
    {
      "cell_type": "code",
      "metadata": {
        "id": "wGRIAteFRwAb",
        "outputId": "cd8fb151-9056-4743-f216-903dddd7e46c",
        "colab": {
          "base_uri": "https://localhost:8080/"
        }
      },
      "source": [
        "def print_mais(input):\n",
        "  [print(\"+\" * x) for x in range(input + 1)]\n",
        "\n",
        "print_mais(5)"
      ],
      "id": "wGRIAteFRwAb",
      "execution_count": 64,
      "outputs": [
        {
          "output_type": "stream",
          "text": [
            "\n",
            "+\n",
            "++\n",
            "+++\n",
            "++++\n",
            "+++++\n"
          ],
          "name": "stdout"
        }
      ]
    },
    {
      "cell_type": "markdown",
      "metadata": {
        "id": "lX3fwHelStxu"
      },
      "source": [
        "14. Itere sobre a lista abaixo e crie uma nova lista com todos os nomes em letras maisculuas e com underline ao invés de espaços. Dica: utilize compreensão de listas.\n",
        "\n",
        "lista_nomes = ['Geralt de Rívia','Yennefer de Vengerberd','Triss Marigold','Emhyr var Emreis','Jaskier o bardo']"
      ],
      "id": "lX3fwHelStxu"
    },
    {
      "cell_type": "code",
      "metadata": {
        "id": "q2tlj82xSSzC",
        "outputId": "581c89f5-949e-4f93-ee58-100098f36b15",
        "colab": {
          "base_uri": "https://localhost:8080/"
        }
      },
      "source": [
        "lista_nomes = ['Geralt de Rívia','Yennefer de Vengerberd','Triss Marigold','Emhyr var Emreis','Jaskier o bardo']\n",
        "\n",
        "[x.upper().replace(\" \", \"_\") for x in lista_nomes]"
      ],
      "id": "q2tlj82xSSzC",
      "execution_count": 67,
      "outputs": [
        {
          "output_type": "execute_result",
          "data": {
            "text/plain": [
              "['GERALT_DE_RÍVIA',\n",
              " 'YENNEFER_DE_VENGERBERD',\n",
              " 'TRISS_MARIGOLD',\n",
              " 'EMHYR_VAR_EMREIS',\n",
              " 'JASKIER_O_BARDO']"
            ]
          },
          "metadata": {
            "tags": []
          },
          "execution_count": 67
        }
      ]
    },
    {
      "cell_type": "markdown",
      "metadata": {
        "id": "jFXUH1s7TMrl"
      },
      "source": [
        "15. Voce é um jogador de tênis. Para decidir se você vai treinar hoje você deve avaliar duas coisas: o tempo e a temperatura. Crie um programa para saber se você deve ou não treinar hoje de acordo com as seguintes especificações: \n",
        "\n",
        "- Tempo: chuvoso -> não jogar\n",
        "- Tempo: ensolarado ou nublado -> jogar\n",
        "- Temperatura maior ou igual a 15 graus e tempo ensolarado ou nublado -> jogar\n",
        "- Temperatura menor que 15 graus e tempo ensolarado ou nublado -> não jogar\n",
        "\n",
        "Se o dia estiver ensolarado e a temperatura for de 16 graus. Você irá ou não jogar?\n"
      ],
      "id": "jFXUH1s7TMrl"
    },
    {
      "cell_type": "code",
      "metadata": {
        "id": "0Sh1TAT5TNQB",
        "outputId": "9008d55f-6840-4926-8326-fb7f1319bea1",
        "colab": {
          "base_uri": "https://localhost:8080/"
        }
      },
      "source": [
        "def vai_treinar_tenis_hoje(tempo, temperatura):\n",
        "  if tempo == 'chuvoso':\n",
        "    return False\n",
        "  if temperatura >= 15 and (tempo == \"ensolarado\" or tempo == \"nublado\"):\n",
        "    return True\n",
        "  return False\n",
        "\n",
        "\n",
        "vai_treinar_tenis_hoje('ensolarado', 16)"
      ],
      "id": "0Sh1TAT5TNQB",
      "execution_count": 73,
      "outputs": [
        {
          "output_type": "execute_result",
          "data": {
            "text/plain": [
              "True"
            ]
          },
          "metadata": {
            "tags": []
          },
          "execution_count": 73
        }
      ]
    },
    {
      "cell_type": "markdown",
      "metadata": {
        "id": "_oq-6txGYzPp"
      },
      "source": [
        "16. Pesquise e use a função ```zip()``` para juntar as duas listas abaixo.\n",
        "\n",
        "nomes = ['nasser','joao','mateus']\n",
        "salarios = [1000,1500,5000]"
      ],
      "id": "_oq-6txGYzPp"
    },
    {
      "cell_type": "code",
      "metadata": {
        "id": "_GlOw6F9YtDi",
        "outputId": "c4448b77-fe8e-417e-85f2-bdca18b5f9d4",
        "colab": {
          "base_uri": "https://localhost:8080/"
        }
      },
      "source": [
        "help(zip)"
      ],
      "id": "_GlOw6F9YtDi",
      "execution_count": 74,
      "outputs": [
        {
          "output_type": "stream",
          "text": [
            "Help on class zip in module builtins:\n",
            "\n",
            "class zip(object)\n",
            " |  zip(*iterables) --> zip object\n",
            " |  \n",
            " |  Return a zip object whose .__next__() method returns a tuple where\n",
            " |  the i-th element comes from the i-th iterable argument.  The .__next__()\n",
            " |  method continues until the shortest iterable in the argument sequence\n",
            " |  is exhausted and then it raises StopIteration.\n",
            " |  \n",
            " |  Methods defined here:\n",
            " |  \n",
            " |  __getattribute__(self, name, /)\n",
            " |      Return getattr(self, name).\n",
            " |  \n",
            " |  __iter__(self, /)\n",
            " |      Implement iter(self).\n",
            " |  \n",
            " |  __next__(self, /)\n",
            " |      Implement next(self).\n",
            " |  \n",
            " |  __reduce__(...)\n",
            " |      Return state information for pickling.\n",
            " |  \n",
            " |  ----------------------------------------------------------------------\n",
            " |  Static methods defined here:\n",
            " |  \n",
            " |  __new__(*args, **kwargs) from builtins.type\n",
            " |      Create and return a new object.  See help(type) for accurate signature.\n",
            "\n"
          ],
          "name": "stdout"
        }
      ]
    },
    {
      "cell_type": "code",
      "metadata": {
        "id": "u66vavSxTGpa"
      },
      "source": [
        "nomes = ['nasser','joao','mateus']\n",
        "salarios = [1000,1500,5000]"
      ],
      "id": "u66vavSxTGpa",
      "execution_count": 76,
      "outputs": []
    },
    {
      "cell_type": "code",
      "metadata": {
        "id": "ci_PGXgOY8Ze",
        "outputId": "e962ab94-2d3e-4a0e-ce02-e9c1167d4da5",
        "colab": {
          "base_uri": "https://localhost:8080/"
        }
      },
      "source": [
        "[x for x in zip(nomes, salarios)]"
      ],
      "id": "ci_PGXgOY8Ze",
      "execution_count": 80,
      "outputs": [
        {
          "output_type": "execute_result",
          "data": {
            "text/plain": [
              "[('nasser', 1000), ('joao', 1500), ('mateus', 5000)]"
            ]
          },
          "metadata": {
            "tags": []
          },
          "execution_count": 80
        }
      ]
    },
    {
      "cell_type": "markdown",
      "metadata": {
        "id": "JZr_PhD4aK3q"
      },
      "source": [
        "17. Considera as duas listas abaixo, a primeira demonstra o valor real de venda de uma casa e a segunda demonstra o valor recomendado por um modelo de regressão. Gere uma terceira lista com o resíduo de cada ponto. O resíduo é o resultado da subtração entre o valor real e o valor predito para determinado ponto.\n",
        "\n",
        "real = [150358,368525,532152,144789]\n",
        "predito = [162122,365255,533200,185789]"
      ],
      "id": "JZr_PhD4aK3q"
    },
    {
      "cell_type": "code",
      "metadata": {
        "id": "mYDlZ7-uaM9y"
      },
      "source": [
        "real = [150358,368525,532152,144789]\n",
        "predito = [162122,365255,533200,185789]"
      ],
      "id": "mYDlZ7-uaM9y",
      "execution_count": 81,
      "outputs": []
    },
    {
      "cell_type": "code",
      "metadata": {
        "id": "9omOMroVaO9K",
        "outputId": "1f95578e-1bfb-4b92-98f1-0965be9f8d25",
        "colab": {
          "base_uri": "https://localhost:8080/"
        }
      },
      "source": [
        "def residuo(real, predito):\n",
        "  return [x[0] - x[1] for x in zip(real, predito)]\n",
        "\n",
        "residuo(real, predito)"
      ],
      "id": "9omOMroVaO9K",
      "execution_count": 82,
      "outputs": [
        {
          "output_type": "execute_result",
          "data": {
            "text/plain": [
              "[-11764, 3270, -1048, -41000]"
            ]
          },
          "metadata": {
            "tags": []
          },
          "execution_count": 82
        }
      ]
    },
    {
      "cell_type": "markdown",
      "metadata": {
        "id": "YzJvzYDhkaNH"
      },
      "source": [
        "18. Ainda usando os dados da questao 17 calcule, sem utilizar bibliotecas, o RMSE do valor predito. Referência: https://tinyurl.com/yd9ljcmj"
      ],
      "id": "YzJvzYDhkaNH"
    },
    {
      "cell_type": "code",
      "metadata": {
        "id": "1XvuP0H6ZzCq"
      },
      "source": [
        ""
      ],
      "id": "1XvuP0H6ZzCq",
      "execution_count": null,
      "outputs": []
    }
  ]
}